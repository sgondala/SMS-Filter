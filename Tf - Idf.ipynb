{
 "cells": [
  {
   "cell_type": "code",
   "execution_count": 1,
   "metadata": {
    "collapsed": true
   },
   "outputs": [],
   "source": [
    "import csv\n",
    "import string\n",
    "import numpy as np\n",
    "import math\n",
    "from nltk.corpus import stopwords"
   ]
  },
  {
   "cell_type": "code",
   "execution_count": 2,
   "metadata": {
    "collapsed": true
   },
   "outputs": [],
   "source": [
    "words = {}\n",
    "wordIndex = 0\n",
    "punctuations = string.punctuation + '\\n'"
   ]
  },
  {
   "cell_type": "code",
   "execution_count": 3,
   "metadata": {
    "collapsed": false
   },
   "outputs": [],
   "source": [
    "stop = set(stopwords.words('english'))"
   ]
  },
  {
   "cell_type": "code",
   "execution_count": 4,
   "metadata": {
    "collapsed": true
   },
   "outputs": [],
   "source": [
    "def getProperSentence(sentence):\n",
    "    returnSentence = sentence.lower()\n",
    "    replace_punctuation = string.maketrans(punctuations, ' '*len(punctuations))\n",
    "    returnSentence = returnSentence.translate(replace_punctuation)\n",
    "    return returnSentence"
   ]
  },
  {
   "cell_type": "code",
   "execution_count": 5,
   "metadata": {
    "collapsed": true
   },
   "outputs": [],
   "source": [
    "messageList = []\n",
    "cleanedMessageList = []"
   ]
  },
  {
   "cell_type": "code",
   "execution_count": 6,
   "metadata": {
    "collapsed": true
   },
   "outputs": [],
   "source": [
    "def populateMessageList():\n",
    "    with open('train.csv','rb') as train:\n",
    "        reader = csv.reader(train)\n",
    "        for row in reader:\n",
    "            message =row[4]\n",
    "            messageList.append(message)\n",
    "            \n",
    "populateMessageList()\n",
    "\n",
    "def populateCleanedMessageList():\n",
    "    with open('train.csv','rb') as train:\n",
    "        reader = csv.reader(train)\n",
    "        for row in reader:\n",
    "            message =row[4]\n",
    "            cleanedMessageList.append(getProperSentence(message))\n",
    "            \n",
    "populateCleanedMessageList()"
   ]
  },
  {
   "cell_type": "code",
   "execution_count": 7,
   "metadata": {
    "collapsed": false
   },
   "outputs": [],
   "source": [
    "wordsIndex = {}\n",
    "wordCount = 0\n",
    "wordCountForIdf = {}"
   ]
  },
  {
   "cell_type": "code",
   "execution_count": null,
   "metadata": {
    "collapsed": false
   },
   "outputs": [],
   "source": []
  },
  {
   "cell_type": "code",
   "execution_count": 8,
   "metadata": {
    "collapsed": false
   },
   "outputs": [],
   "source": [
    "def populateWordsIndex():\n",
    "    global wordCount\n",
    "    for message in cleanedMessageList:\n",
    "        for word in message.split(' '):\n",
    "            if not word.isdigit():\n",
    "                if word not in wordsIndex:\n",
    "                    wordsIndex[word] = wordCount\n",
    "                    wordCount += 1\n",
    "\n",
    "populateWordsIndex()"
   ]
  },
  {
   "cell_type": "code",
   "execution_count": 9,
   "metadata": {
    "collapsed": false
   },
   "outputs": [],
   "source": [
    "def populateWordCountForIdf():\n",
    "    for word in wordsIndex:\n",
    "        count = 0\n",
    "        for message in cleanedMessageList:\n",
    "            if word in message:\n",
    "                count += 1\n",
    "        wordCountForIdf[word] = count\n",
    "        \n",
    "populateWordCountForIdf()"
   ]
  },
  {
   "cell_type": "code",
   "execution_count": 10,
   "metadata": {
    "collapsed": false
   },
   "outputs": [],
   "source": [
    "stopWordsRemovedCount = 0\n",
    "stopWordsRemovedIndex = {}\n",
    "for word in wordsIndex:\n",
    "    if word not in stop:\n",
    "        stopWordsRemovedIndex[word] = stopWordsRemovedCount\n",
    "        stopWordsRemovedCount += 1\n"
   ]
  },
  {
   "cell_type": "code",
   "execution_count": null,
   "metadata": {
    "collapsed": false
   },
   "outputs": [],
   "source": []
  },
  {
   "cell_type": "code",
   "execution_count": 11,
   "metadata": {
    "collapsed": false
   },
   "outputs": [],
   "source": [
    "def tf(givenWord, message): #Assuming cleaned message\n",
    "    count = 0\n",
    "    for word in message.split(' '):\n",
    "        if givenWord == word:\n",
    "            count += 1.0 \n",
    "    return count\n",
    "\n",
    "def idf(givenWord):\n",
    "    N = len(messageList)\n",
    "    n = wordCountForIdf[givenWord]\n",
    "    return math.log(N*1.0/(1+n))"
   ]
  },
  {
   "cell_type": "code",
   "execution_count": 12,
   "metadata": {
    "collapsed": false
   },
   "outputs": [],
   "source": [
    "def makeFeatureVector(sentence):\n",
    "    tempSen = sentence\n",
    "    retVal = np.zeros(wordCount)\n",
    "    for word in tempSen.split(' '):\n",
    "        if word.isdigit():\n",
    "            continue\n",
    "        indexOfWord = wordsIndex[word]\n",
    "        retVal[indexOfWord] = tf(word,tempSen)*idf(word)\n",
    "    return retVal\n",
    "\n",
    "def makeFeatureVectorWithoutStopwords(sentence):\n",
    "    tempSen = sentence\n",
    "    retVal = np.zeros(stopWordsRemovedCount)\n",
    "    for word in tempSen.split(' '):\n",
    "        if word.isdigit() or word in stop:\n",
    "            continue\n",
    "        indexOfWord = stopWordsRemovedIndex[word]\n",
    "        retVal[indexOfWord] = tf(word,tempSen)*idf(word)\n",
    "    return retVal\n",
    "    "
   ]
  },
  {
   "cell_type": "code",
   "execution_count": 13,
   "metadata": {
    "collapsed": true
   },
   "outputs": [],
   "source": [
    "def returnFeatureSet(makeFeatureFunction):\n",
    "    index = 0\n",
    "    ret = np.array([])\n",
    "    for message in cleanedMessageList:        \n",
    "        featureVector = makeFeatureFunction(message)\n",
    "#             print featureVector\n",
    "        if index == 0:\n",
    "            ret = np.hstack((ret,featureVector))\n",
    "            index = index + 1\n",
    "        else:\n",
    "            ret = np.vstack((ret, featureVector))\n",
    "    return ret"
   ]
  },
  {
   "cell_type": "code",
   "execution_count": 14,
   "metadata": {
    "collapsed": true
   },
   "outputs": [],
   "source": [
    "def returnCovarianceMatrix(makeFeatureFunction, sizeOfMatrix):\n",
    "    ret = np.zeros([sizeOfMatrix, sizeOfMatrix])\n",
    "    for message in cleanedMessageList:        \n",
    "        featureVector = makeFeatureFunction(message)\n",
    "        b = np.array([featureVector])\n",
    "        ret += b.T * b\n",
    "    return ret*1.0/len(cleanedMessageList)"
   ]
  },
  {
   "cell_type": "code",
   "execution_count": 15,
   "metadata": {
    "collapsed": false
   },
   "outputs": [],
   "source": [
    "featureVectorSet = returnFeatureSet(makeFeatureVector)\n",
    "stopwordLessFeatureVectorSet = returnFeatureSet(makeFeatureVectorWithoutStopwords)"
   ]
  },
  {
   "cell_type": "code",
   "execution_count": 16,
   "metadata": {
    "collapsed": false
   },
   "outputs": [],
   "source": [
    "from sklearn.cluster import KMeans"
   ]
  },
  {
   "cell_type": "code",
   "execution_count": 17,
   "metadata": {
    "collapsed": true
   },
   "outputs": [],
   "source": [
    "kmeans = KMeans(n_clusters=20, random_state=0).fit(stopwordLessFeatureVectorSet)"
   ]
  },
  {
   "cell_type": "code",
   "execution_count": 18,
   "metadata": {
    "collapsed": true
   },
   "outputs": [],
   "source": [
    "def getClusters(clusterIndices, messageList, requiredIndex):\n",
    "    retVal = []\n",
    "    for i in range(len(clusterIndices)):\n",
    "        if clusterIndices[i] == requiredIndex:\n",
    "            retVal.append(messageList[i])\n",
    "    return retVal"
   ]
  },
  {
   "cell_type": "code",
   "execution_count": 19,
   "metadata": {
    "collapsed": false
   },
   "outputs": [
    {
     "data": {
      "text/plain": [
       "['dear krishna deepak  thanks for booking with us  reach your oyo  reach jss hospital main gate  head east  16 m  turn left onto mg road and pass by hotel malgudi on the left for 160 m  then take a u turn at shankar mutt road and you will spot oyo on your left  28m    map link  http   bit ly mys028 hotel reception contact  04038416830']"
      ]
     },
     "execution_count": 19,
     "metadata": {},
     "output_type": "execute_result"
    }
   ],
   "source": [
    "getClusters(kmeans.labels_,cleanedMessageList,3)"
   ]
  },
  {
   "cell_type": "code",
   "execution_count": 20,
   "metadata": {
    "collapsed": false
   },
   "outputs": [
    {
     "data": {
      "text/plain": [
       "[(0, 1),\n",
       " (1, 13),\n",
       " (2, 384),\n",
       " (3, 1),\n",
       " (4, 2),\n",
       " (5, 4),\n",
       " (6, 2),\n",
       " (7, 11),\n",
       " (8, 12),\n",
       " (9, 38),\n",
       " (10, 4),\n",
       " (11, 31),\n",
       " (12, 2),\n",
       " (13, 2),\n",
       " (14, 16),\n",
       " (15, 15),\n",
       " (16, 17),\n",
       " (17, 1),\n",
       " (18, 3),\n",
       " (19, 71)]"
      ]
     },
     "execution_count": 20,
     "metadata": {},
     "output_type": "execute_result"
    }
   ],
   "source": [
    "[(i,len(getClusters(kmeans.labels_,messageList,i))) for i in range(20)]"
   ]
  },
  {
   "cell_type": "code",
   "execution_count": 22,
   "metadata": {
    "collapsed": false
   },
   "outputs": [],
   "source": [
    "covarianceMatrix = returnCovarianceMatrix(makeFeatureVector,wordCount)"
   ]
  },
  {
   "cell_type": "code",
   "execution_count": null,
   "metadata": {
    "collapsed": false
   },
   "outputs": [],
   "source": []
  },
  {
   "cell_type": "code",
   "execution_count": 28,
   "metadata": {
    "collapsed": false
   },
   "outputs": [
    {
     "data": {
      "text/plain": [
       "(2229,)"
      ]
     },
     "execution_count": 28,
     "metadata": {},
     "output_type": "execute_result"
    }
   ],
   "source": [
    "s.shape\n"
   ]
  },
  {
   "cell_type": "code",
   "execution_count": 26,
   "metadata": {
    "collapsed": false
   },
   "outputs": [],
   "source": [
    "U, s, V = np.linalg.svd(covarianceMatrix)"
   ]
  },
  {
   "cell_type": "code",
   "execution_count": 32,
   "metadata": {
    "collapsed": false
   },
   "outputs": [],
   "source": [
    "def getPCAColumnCount(requiredPercentage, s):\n",
    "    total = 0.0\n",
    "    for i in range(len(s)):\n",
    "        total += s[i]**2\n",
    "    sumTillNow = 0.0\n",
    "    for i in range(len(s)):\n",
    "        sumTillNow += s[i]**2\n",
    "        if(sumTillNow/total >= requiredPercentage):\n",
    "            return i + 1\n"
   ]
  },
  {
   "cell_type": "code",
   "execution_count": 34,
   "metadata": {
    "collapsed": false
   },
   "outputs": [
    {
     "data": {
      "text/plain": [
       "104"
      ]
     },
     "execution_count": 34,
     "metadata": {},
     "output_type": "execute_result"
    }
   ],
   "source": [
    "getPCAColumnCount(0.9,s)"
   ]
  },
  {
   "cell_type": "code",
   "execution_count": 65,
   "metadata": {
    "collapsed": false
   },
   "outputs": [],
   "source": [
    "def getFeaturesAfterPCA(requiredPercentage, initialFeatures, s, U):\n",
    "    numberOfColumns = getPCAColumnCount(requiredPercentage, s)\n",
    "    uMatrix = U[:, 0:numberOfColumns].T\n",
    "    featuresT = initialFeatures.T\n",
    "#     print uMatrix.shape, featuresT.shape\n",
    "    return (np.matrix(uMatrix)*np.matrix(featuresT)).T\n",
    "    "
   ]
  },
  {
   "cell_type": "code",
   "execution_count": 66,
   "metadata": {
    "collapsed": false
   },
   "outputs": [],
   "source": [
    "featuresAfterPCA = getFeaturesAfterPCA(0.90, featureVectorSet, s, U)"
   ]
  },
  {
   "cell_type": "code",
   "execution_count": 69,
   "metadata": {
    "collapsed": false
   },
   "outputs": [],
   "source": [
    "featuresAfterPCA = np.array(featuresAfterPCA)"
   ]
  },
  {
   "cell_type": "code",
   "execution_count": 82,
   "metadata": {
    "collapsed": false
   },
   "outputs": [],
   "source": [
    "kmeansPCAVersion = KMeans(n_clusters=30, random_state=0).fit(featuresAfterPCA)"
   ]
  },
  {
   "cell_type": "code",
   "execution_count": 85,
   "metadata": {
    "collapsed": false
   },
   "outputs": [
    {
     "data": {
      "text/plain": [
       "['buy till sunday   get extra 300 500 off over  above all offers  www lenskart com cust or visit store 1st time ever 300 off  1st frame free  500 off  2 for 2500',\n",
       " 'nitish chandra has requested rs 5000 0 from you  click on this link to pay  http   m p y tm stom',\n",
       " 'faasos app code   4893   for verifying your phone number  not some secret treasure ',\n",
       " 'faasos app code   1752   for verifying your phone number  not some secret treasure ',\n",
       " 'faasos app code   4893   for verifying your phone number  not some secret treasure ',\n",
       " 'flat 50  cashback on mirchi live with vishal   shekhar concert tickets  use code  mirchi50  get upto rs 1 000 cashback  book on paytm http   m p y tm mrch  ',\n",
       " 'pantaloons fashion fiesta  get rs  500 gift coupon on shopping for rs 3000  also get 15  cashback with freecharge   mobikwik  for tc click http   bit ly 2fhwyik',\n",
       " 'canara bank invites you to mega retail expo at nehru centre exh hall 1 on 12 13 nov 16 from 10am to 7pm  top builders car dealers will participate  t c apply ',\n",
       " 'introducing mojopizza pizzas loaded with toppings   cheese  get any 10 inch pizza 199 for 1st order  get your mojo on https   get mojopizza in  code  firstmojo',\n",
       " 'get a pension of rs 50 000 per month   rs 1 crore for your family by investing rs 5 000 per month   save tax  t c apply  to know more  sms rv to 56161',\n",
       " 'beat diabetes with landmark group   apollo hospitals  take the test   lifestyle   select max stores till 20 nov  check http   goo gl jfa9fr for details',\n",
       " 'airtel surprise offer  top up with just rs100 on your current 3g 4g pack   get 2gb additional 3g 4g benefit  sms extradata to 121 to check offer and activate ',\n",
       " 'now pay meru cabs fare via citrus wallet   get 20  cashback  additional 20  off on all meru exactometer rides  book via meru cabs app  bit ly 2fnnapd  tca',\n",
       " 'dear customer  request you to download and self activate mobile banking   upi app from play app store to pay or collect money instantly and overcome the dependence of atm  cash   canara bank',\n",
       " 'introducing mojopizza pizzas loaded with toppings   cheese  get any 10 inch pizza 199 for 1st order  get your mojo on https   get mojopizza in  code  firstmojo',\n",
       " 'go note free with ola money at leading merchants like bookmyshow  irctc  domino s  ccd  ebay  cleartrip  quikr   more   donoteworry recharge now  bit ly  notem',\n",
       " 'flat 15  cashback on all meru rides  pay via mobikwik wallet  get additional 20  off on meru exactometer rides  book via meru cabs app  bit ly 2fnao3f  tca',\n",
       " 'don t worry about rs 500 1000 currency notes  you can pay using smaller denominations or via digital options to keep enjoying your fav pizzahut pan pizzas',\n",
       " 'load na lo  load karo  20  cashback  on loading rs 500  code white500    rs 1000  code  white1000  in oxigen wallet app  t c apply http   m owsms in xdpminvk',\n",
       " 'dear customer  we are pleased to inform that our branches will be open on sat sun 12 13th   to facilitate exchange   deposit of cash  canara bank',\n",
       " 'enjoy your favourite domino s pizzas   don t worry about cash  now pay through credit debit card wallet  walkin  order   pizzaonline dominos co in or mobile app',\n",
       " 'freedom from cash   download my airtel app and make a hasslefree cashless payment  to download now  click www airtel in 5 service',\n",
       " '500 off   100 cashback   the beer cafe  enjoy 2 starters with pitcher  use promo cb20  only on little app  http   bit ly 2d5tqna',\n",
       " 'it s wacky wednesday today   why pay for 2 pizzas  buy 1 get 1 free on 10     13   pizzas only at eagle boys pizza chandivali call  02241222212 13',\n",
       " 'get 5  cashback upto rs300 on 3 postpaid bill payments  min  order rs200  promo code  nov300  offer valid till 12 nov on smartapp  click http   smrtp co promo',\n",
       " 'why pay cash  pay with paytm at your favorite stores   enjoy great cashback offers  click http   m p y tm mega  paytmkaro',\n",
       " 'get rs 25 341 yearly   get a lumpsum of rs 4 35lacs at maturity by investing rs 2300 pm with hdfc life  know more  sms nhr to 5667705 ',\n",
       " 'best investment opportunity  1bhk starting  25 62  lacs only  close to karjat station  zero registration  vat  service tax   stamp duty  sms ari to 5667705  t c',\n",
       " 'no cash  dont worry   gocashless with walnut   pay and get paid directly from bank accounts for free  download http   wnut in walnutmoney',\n",
       " 'just got modi d  relax  we accept online payments too and to support this bold move get 10  cashback on online payments  https   taskbob app link onlinepayment',\n",
       " 'airtel surprise offer  top up with just rs100 on your current 3g 4g pack   get 2gb additional 3g 4g benefit  sms extradata to 121 to check offer and activate ',\n",
       " 'introducing gorb  we take care of your food cravings  enjoy the food festival  download app   your 1st free meal  code  gogorb  click  http   chk bz 9marghg0i9',\n",
       " 'cockroaches cause asthma  food poisoning   typhoid  kill them  just rs749  upto 50  off  with hicare protection 1000 payback points  sms pbac to 9773597735  tnc',\n",
       " 'department of telecom  goi \\r swachh rahe bharat  swasth rahe hum',\n",
       " 'winter is coming  plan your vacations with all inclusive flight fares from rs 468 post rs 600 cashback via ixigo  http   ixi to fly coz  all men must fly    ',\n",
       " 'hdfcsec  want expert advice on tax savings  attend a webinar today at 4pm with mr  jinesh gopani  fund mgr axis long term eq fund  register estv in hdfcsec ',\n",
       " 'get a pension of rs 50 000 per month   rs 1 crore for your family by investing rs 5 000 per month   save tax  t c apply  to know more  sms rv to 56161',\n",
       " 'ola  use code happy5   get 50  cashback upto rs  50 on 5 mini or prime  sedan   suv  rides in bengaluru between 7th to 11th november  book now bit ly 1olacabs',\n",
       " 'it s cheapy monday today   get 50  off on 10inch   13inch pizza only at eagle boys pizza  call  02241222212   13',\n",
       " 'it s cheapy monday today   get 50  off on 10inch   13inch pizza only at eagle boys pizza  call  02241222212   13',\n",
       " 'ola  use code midday50   get rs  50 off on 5 mini or prime rides in bengaluru between 11am   5pm from 7th to 11th november  book now  http   bit ly 1olacabs',\n",
       " 'hdfcsec  join us for a webinar on save tax with elss by mr  jinesh gopani  fund mgr  axis long term equity fund on 8th nov 4 pm  register now estv in hdfcsec ',\n",
       " 'post diwali sale  30  off  on medicines from medlife  install goo gl f8y1qo or call 02260708090  use diwi30  valid on 1st order  till 10 nov 16   t c apply',\n",
       " 'hybrid courier services  anything gets picked and delivered in 4 hrs within the city  book now on 7045929618 or visit web page   www rapidels com',\n",
       " 'hdfcsec   picks of the week buy  swaraj engines   gujarat industries power company details  https   goo gl j9undg buy from mob app  http   goo gl frwlg8',\n",
       " 'weekend special  get 2eyeglasses   rs1500  with lenses  http   msg gd s 9uyu6v bu0grc or at lenskart store http   msg gd s 3bggxs bu0grc optout sms lens 567678',\n",
       " 'your trx is debited to hdfc bank credit card for rs  199 00 in mumbai at hotstar60238 on 2016 11 06 11 24 05 this is not an authenticated trx as per rbi mandate effective 1 may 12 ',\n",
       " 'upto 70  off   70  cashback   5 star dining offers on little app  use promo star70  hurry  last 12 hours   http   bit ly 2d5tqna',\n",
       " 'reduce weight upto 2kg per week naturally  50  off on all plans  anjali mukerjee with success rate over 98   for 1st free consultation missed call  918030636199',\n",
       " 'dear hdfc bank creditcard holder 10  off on economy code 9whdfc1016    15  off on premiere class code 9whdfc1516 on jetairways com  t c  http   bit ly 2cgl8wt',\n",
       " 'dear hdfc bank creditcard holder 10  off on economy code 9whdfc1016    15  off on premiere class code 9whdfc1516 on jetairways com  t c  http   bit ly 2cgl8wt',\n",
       " 'future pay  a convenient way to pay   big bazaar  load the wallet   enjoy cashback upto rs 100   redeem payback points easily  download now  goo gl 6qy3p3 tnc',\n",
       " 'upto 70  off   70  cashback   5 star dining offers on little app  use promo star70  hurry  only this weekend  http   bit ly 2d5tqna',\n",
       " 'your ebill password lower case  is ndu0  for security reasons we advise you not to disclose your password  add ebill airtel com to your email contacts to avoid mail going to spam  for easy understanding of bill  click www airtel in billdemo',\n",
       " 'sub  oracle identification code your oracle sms identification code is  64327',\n",
       " 'your a c no  xxxxxxxxxx8805 is debited for inr 80 000 00 on 04 11 16 and a c xxxxxxxxxx6100 credited  imps ref no 630919139418  ',\n",
       " 'as requested  your third party transfer limit is now set to rs 500000  limit applicable per cust id per day for queries contact phonebanking or branch',\n",
       " 'otp to transfer money to beneficiary a c is 11832883  do not share it with anyone',\n",
       " 'thank you for using state bank internet banking  your transaction ref no irb0777718 for rs 80000 on 04 nov 16 18 16',\n",
       " 'otp to transfer money to beneficiary a c is 78643221  do not share it with anyone',\n",
       " 'otp to transfer money to beneficiary a c is 78643221  do not share it with anyone',\n",
       " 'otp to add beneficiary a c 50xxxxxx805 is 16764100  do not share it with anyone',\n",
       " 'thank you for using state bank internet banking  your transaction ref no irb0775521 for rs 100000 on 04 nov 16 18 00',\n",
       " 'otp to transfer money to beneficiary a c is 11832883  do not share it with anyone',\n",
       " 'your neft of rs 151371 with utr sbin316309598202 dtd 04 11 16 credited to beneficiary ac no  31450100006040 at barb0nandya on 04 11 16 at 03 08 pm',\n",
       " 'want to know more about extra data for you  sms extradata to 121',\n",
       " 'last day to spoil yourself  70  cashback on all spas   salons on little app   use promo code spa70   claim now http   bit ly 2d5tqna',\n",
       " 'xrbia xpress city near panvel  book your bunglow   avail loan at 0  interest for 8 years with emi of 34343  starting 54 94 lac  save min 14 4 lac  offer closes soon  visit www xrbiaxpresscity com or call 02261320007',\n",
       " 'otp to add beneficiary a c 31xxxxxx100 is 67101537  do not share it with anyone',\n",
       " 'otp to transfer money to beneficiary a c is 78197306  do not share it with anyone',\n",
       " 'thank you for using state bank internet banking  your transaction ref no irb0734647 for rs 151371 on 04 nov 16 14 07',\n",
       " 'otp to transfer money to beneficiary a c is 78197306  do not share it with anyone',\n",
       " 'india s no 1 pre launch by lodha at amara codename mega star 40 acre estate in thane 2750  homes sold in 18 months  1 2 3 bhks starting 70l   call 02261356363',\n",
       " 'airtel surprise offer  top up with just rs100 on your current 3g 4g pack   get 2gb additional 3g 4g benefit  sms extradata to 121 to check offer and activate ',\n",
       " 'sub  oracle identification code your oracle sms identification code is  95168',\n",
       " 'otp to add beneficiary a c 31xxxxxx040 is 59669228  do not share it with anyone',\n",
       " 'upto rs 200 cashback  on booking bus tickets using oxigen wallet app   rs 100 cashback  for 100 lucky winners every week  book now http   m owsms in u5covcg0',\n",
       " 'otp to add beneficiary a c 31xxxxxx100 is 66670536  do not share it with anyone',\n",
       " 'your bank a c     8805 will be debited for rs 30385 77 towards payment of hdfcbank creditcard ending 7109 on 08 nov 2016  kindly ignore if paid ',\n",
       " 'otp to add beneficiary a c 31xxxxxx100 is 45983765  do not share it with anyone',\n",
       " 'otp to add beneficiary a c 31xxxxxx040 is 44497987  do not share it with anyone',\n",
       " 'thomas cook offer  buy foreign exchange at best rates   get additional discount vouchers worth rs 15 000  call at 18002700650  valid till 30th nov 16  t c apply',\n",
       " 'activation of 3rd party added by you at 03 11 2016 10 39 13 am is in process  money can be transferred only after activation',\n",
       " 'rs200 cashback  ',\n",
       " 'to know the bill plan and current call rates for your airtel mobile  sms bp to 121',\n",
       " 'otp to add beneficiary a c 31xxxxxx040 is 87619385  do not share it with anyone',\n",
       " 'otp to add beneficiary a c 31xxxxxx040 is 87619385  do not share it with anyone',\n",
       " '3rd party added by you on 02 11 2016 06 39 19 pm is activated  do not share your sms password with any one',\n",
       " 'activation of 3rd party added by you at 02 11 2016 06 39 19 pm is in process  money can be transferred only after activation',\n",
       " 'it s wacky wednesday today    why pay for 2 pizzas    buy 1 get 1 free on 10     13   pizzas  only at eagle boys pizza chandivali  call  022 41222212 13 ',\n",
       " 'ola  use code next5   enjoy 50  cashback upto rs  50 on your next 5 micro mini prime rides in bengaluru  valid till 6th november ',\n",
       " 'otp to add beneficiary a c 31xxxxxx100 is 37629996  do not share it with anyone',\n",
       " 'activation of 3rd party added by you at 02 11 2016 05 10 24 pm is in process  money can be transferred only after activation',\n",
       " 'best deal ever  get 2 eyeglasses with anti glare lenses at just rs 1700 at http   msg gd s mmyzom oo2nfn or visit lenskart store optout sms lens 567678',\n",
       " 'alert  you have made 2 invalid profile login attempts for your username mxxxx6 on 02 11 2016 17 12  you are left with 1 more attempt and your profile access will be locked for a day post 3 wrong password attempts ',\n",
       " 'otp to add beneficiary a c 31xxxxxx101 is 42853955  do not share it with anyone',\n",
       " 'celebrate birthday parties at papa john s  packages   rs  149  onward  call us on 1800 3010 7272 to know more   t c apply',\n",
       " 'it s wacky wednesday today    why pay for 2 pizzas    buy 1 get 1 free on 10     13   pizzas   only at eagle boys pizza chandivali  call  022 41222212 13 ',\n",
       " 'travel with family   friends in a meru   45  less fares  20  off on exactometer rides   25  cashback via freecharge wallet on merucabsapp   bit ly 2f8q9tr   tca',\n",
       " 'ur ticket 56482759 from ndl to bngkmpg1  service no   6466  is cancelled for 01 nov 16 08 30 pm  ndl 20 30 refund  254 thank u  reach us 08662570005',\n",
       " 'you have received rs 790 00 from gade  vamshi kumar reddy in your paytm wallet  your updated balance is rs 790 68  get a free movie ticket on recharge of rs 50  http   m p y tm rsms',\n",
       " '517093 is your login otp  treat this as confidential  sharing it with anyone gives them full access to your paytm wallet  paytm never calls to verify your otp ',\n",
       " 'our sibilings are our friend forever order pizzas for your sibling and avail 20  off on minium bill of rs 300 only at eagle boys pizza  call  022 41222212 13',\n",
       " 'our sibilings are our friend forever order pizzas for your sibling and avail 20  off on minium bill of rs 300 only at eagle boys pizza  call  022 41222212 13',\n",
       " 'save up to rs  1500 on your first app booking  use code oyoapp30   also earn rs 500 on signing up using code signup500  signup now bit ly 1y24yl9',\n",
       " 'hdfcsec picks of the week buy  l t finance holdings ltd   cesc ltd details  https   goo gl j9undg buy from mob app  http   goo gl frwlg8 ref discl ',\n",
       " '5881 is your otp to login to your freecharge account  it is valid for 08 minutes  please do not share this with anyone ',\n",
       " 'country is observing vigilance awareness week from 31 oct to 5 nov  join  fight against corruption  by taking integrity pledge on www cvc nic in  canara bank',\n",
       " 'sub  oracle identification code your oracle sms identification code is  27491',\n",
       " 'plan your monday with our diwali special offer  use code  diwali to book movie tickets   get flat 50  cashback  click http   m p y tm shiv  paytmkaro t cs apply',\n",
       " 'sub  oracle identification code your oracle sms identification code is  27571',\n",
       " 'hdfcsec   make shubharambh this diwali by investing in equities during muhurat trading session today evening 6 30pm  7 30pm  http   goo gl frwlg8',\n",
       " 'last day for diwali sale  buy 1get 1free on eyeglasses sunglasses on  http   msg gd s qs6whe rvykld or visit store   store lenskart com optout lens 567678',\n",
       " '8734 is your otp to login to your freecharge account  it is valid for 08 minutes  please do not share this with anyone ',\n",
       " 'welcome to oyo  india s largest hotel brand  save upto rs  1500 on your first app booking   get 50  oyo money cashbackwith code  oyoapp30  bit ly 1ws5wzs',\n",
       " '502325 is your verification code for oyo rooms ',\n",
       " '502325 is your verification code for oyo rooms ',\n",
       " 'this diwali gift something new  get the oneassist mobile protection plan today  download the app http   t21 in 9ruogl   use  gift20  to get 20  discount ',\n",
       " 'dear customer start your diwali with hdfc securities on muhurat trading day on 30th oct 16 from 6 30 7 30 pm and reap maximum benefits  kindly ignore previous sms',\n",
       " 'no sms blackout on 30th and 31st oct   wish your near and dear ones this deepawali  as the sms pack benefits and discounts will be applicable as per your airtel mobile plan \\r ',\n",
       " 'dear customer start your diwali with hdfc securities on muhurat trading day on 31st oct 16 from 6 30 7 30 pm and reap maximum benefits ',\n",
       " 'the wadhwa group premium 2 2 5 3 3 5 4bhk apts the address ghatkopar w nearing   ready possession flats starting 1 90cr  onwards for site visit call 02261446657',\n",
       " 'hdfcsec   make shubharambh this diwali by investing in equities during  muhurat  trading session tomorrow  30th oct between 6 30pm  7 30pm  http   goo gl frwlg8',\n",
       " 'this diwali explore goa s underwater world with scuba evolution india  book your stay   dive weekend packages today  for details call or sms 7261942119',\n",
       " 'major 07204995633',\n",
       " ' 919035491440',\n",
       " 'prashant   919035491440   ',\n",
       " 'as the lights gleam  i wish that our association continues to reach greater heights  may this diwali light up new dreams  fresh hopes  undiscovered avenues  successful endeavors   happy diwali  md  ceo   canara bank',\n",
       " 'this diwali gift your loved ones the freedom of choice with hdfcbank egiftplus cards apply instantly   enjoy 100  off on issuance fees visit bit ly 2eyqjsw t c ',\n",
       " 'dear customer  personal accidental death cover upto rs10lac on hdfcbank debitcard is about to lapse shop with your card ending4949 to keep it active  tc',\n",
       " 'salary of inr 76 077 00 credited to a c xx8805 towards 00090310001751 oracle oct 16 salary value 28 oct 2016  check a c for balance on netbanking mobilebanking ',\n",
       " 'fill your tummy with delicious food  wishing you a happy diwali from gorb  get your 1st meal free  use code  gogorb  t c apply  click  https   goo gl iplmuf',\n",
       " 'hdfcsec this dhanteras add a gleam of digital gold to your portfolio with reliance gold etf  relgoleqnr   invest now  goo gl frwlg8 demo video  goo gl ozx0rt',\n",
       " 'hdfcsec   this dhanteras add a gleam of digital gold to your portfolio with kotak gold etf buy from mob app  goo gl frwlg8 how to buy gold etf goo gl xf9n7n',\n",
       " 'chillr   1000 lucky winners get 100  cashback on any bill payment or recharge and a chance to win one plus 3  hurry  offer ends today  t c  bit ly 2eqvnv3 how to register  click   bit ly chillrregistration',\n",
       " 'hdfcsec   on this dhanteras  garnish your portfolio with a  digitized  glimmer of gold with sovereign gold bond  invest now https   goo gl 9qcblt ref discl',\n",
       " 'try new  feature on facebook messenger  now private chat anonymously with new ppl  disclose ur name only if like someone  never be bored  http   m me neargroup',\n",
       " 'hdfcsec  hurry   few hours left to apply in pnb hfl ipo with price band of rs 750  775   lot size of 19 shares  apply now https   goo gl 9qcblt ref discl',\n",
       " 'crazy flight sale on indigo  jet airways   vistara   crazier ixigo sale with flat rs 600 cashback  limited seats  hurry  http   ixi to 600',\n",
       " 'thomas cook  now buy forex for your international holiday at the best exchange rates  t c  call now on 18002700650',\n",
       " 'smart bytes are back  an easy way to top up your airtel mobile data  to activate smart byte  please sms smart to 121  tollfree  ',\n",
       " 'upto 30  off on digitaltv for airtel users  get airtel dth hd with live tv recording at 30  discount  give a missed call on 7678076780 to buy ',\n",
       " 'hdfcsec  hurry   pnb hfl ipo closes today with price band of rs 750  775   lot size of 19 shares  click to apply now https   goo gl 9qcblt ref discl',\n",
       " 'special full talktime offer  get full talktime on recharge of rs100 through vodafone m pesa app  extra talktime after 1 hr  download app at tinyurl com gr82745',\n",
       " 'it s wacky wednesday  today    buy 1 get 1 free on medium and large pizzas only at eagle boys pizza  chandivali  call   02241222212 13 ',\n",
       " 'last 3 days  save 10 60lacs by booking a home altavista chembur special offers on every booking this dhanteras 1 2 3 bed homes starting 1 15cr  call 02261876848',\n",
       " 'hdfcsec  attend webinar on  equities as a wealth building tool  with our expert mr deepak jasani today at 4 00 pm  to participate visit  http   goo gl q4pnr4 ',\n",
       " 'your password for apsrtc portal login is  e30dgeo z thank you ',\n",
       " 'your payment of inr 1200 for booking id   rtb8355320310 is successfully made  happy riding  team rentrip',\n",
       " 'your payment id 122716998  of rs 1200 0 for rentrip services private  is successful  for queries on your payment visit  http   pmny in fi6l8hehtocj',\n",
       " 'your booking for fz ka05ac8700  via booking id   rtb8355320310 is initiated  kindly complete payment process to reserve your ride  happy riding  team rentrip',\n",
       " 'your payment id 122709772  of rs 1504 0 for ziphop technologies priva is successful  for queries on your payment visit  http   pmny in fi6l8hehtocj',\n",
       " 'enter 000801 as your verification code to login to your payumoney account  valid for 5 minutes  do not share it with anyone ',\n",
       " 'thanks for choosing ziphop  your otp for mobile verification is 400607',\n",
       " 'get 5  cashback upto rs200 on 3 postpaid bill payments  min  order rs150  promo code  diwali  offer valid till 30 oct on smartapp  click http   smrtp co diwali',\n",
       " 'dear hdfcbank cardmember  payment of rs 30385 77 was credited to your card ending 7109 on 25 oct 2016 ',\n",
       " 'hdfcsec   join us for a webinar on  equities as a wealth building tool  with our expert mr deepak jasani today  26 oct16 at 4 00 pm  register now  goo gl q4pnr4',\n",
       " 'grand diwali sale  30  off  on medicines from medlife  install goo gl f8y1qo or call 02260708090  use diwi30  valid on 1st order  till 28 oct 16   t c apply',\n",
       " 'dear customer  for information on additional data topup for your airtel mobile  please sms extradata to 121',\n",
       " 'chillr   1000 lucky winners daily get 100  cashback on any recharge or bill payment on chillr  one lucky winner takes home a one plus 3  t c  bit ly 2eqvnv3',\n",
       " 'hdfcsec to sparkle your diwali use equities as a wealth building tool join us for webinar with our expert mr deepak jasani on 26 oct   4pm to reg  goo gl q4pnr4',\n",
       " 'sub  oracle identification code your oracle sms identification code is  27751',\n",
       " 'chandra k  7899386940  is on the way to your location in auto ka05ac1782    ',\n",
       " 'biller addition made easy on billpay via hdfc bank mobilebanking app  just fill mobile no  biller name to add  only on android for top 5 mobile operators  t c',\n",
       " 'you ve earned rs 50 gocash  in your deepakrishna95 gmail com account because your contact booked a trip on goibibo  https   bnc lt w1ad z2sr1rihnt',\n",
       " 'hdfcsec to sparkle your diwali use equities as a wealth building tool  join us for webinar with our expert mr deepak jasani on 26 oct  4pm to reg  goo gl q4pnr4',\n",
       " 'your transaction on hdfc bank card for 599 00 at olacabs62398              is declined due to wrong input of expirydate or cvv  please try again ',\n",
       " 'sub  oracle identification code your oracle sms identification code is  48932',\n",
       " 'flat 50  cashback  on movie tickets  use code  festive   grab the diwali special offer on paytm  click http   m p y tm fest  paytmkaro\\r ',\n",
       " 'fly from mumbai  rs 592  get flat rs 750 cashback via ixigo today  https   goo gl efuv1s  catch the lowest fares on indigo  spicejet  goair  http   ixi to 750',\n",
       " 'get rs 50 lakhs life cover   secure your family at just rs 15 daily  enjoy tax benefit  sms ipt to 5667705  t c apply ',\n",
       " 'extended  last chance to claim free popcorn   movie vouchers  refer little app to three friends today https   littleapp in terms ae dil no mushkil html ',\n",
       " 'offer e diwali  upto 60  off    rs 400  cashback using oxigen wallet on titan  ajio  shopclues   voylla  let the festivities begin   http   m owsms in gsujbl3e',\n",
       " 'hicare pest control festive offer  make your home pest free with expert pest control services  avail flat rs 1000 off  to book an appointment  sms pest to 56161',\n",
       " 'big wholesale market 23rd to 25th oct manav seva sangh  sion  mumbai  mens wear ladies wear jewellery home appliances  eyewear   much more   50   entry free',\n",
       " 'grand diwali sale  30  off  on medicines from medlife  install goo gl f8y1qo or call 02260708090  use diwi30  valid on 1st order  till 28 oct 16   t c apply',\n",
       " 'ola  ride from bangalore airport to the city   rs 499 flat  fare applicable upto 50 kms   includes airport toll  valid on micro  mini   prime  no code required',\n",
       " 'festive cashbacks upto rs 100  on prepaid visa  load money  recharges   bill payments using oxigen wallet app  download now   http   m owsms in e2wy ui0',\n",
       " 'hdfcsec  invest in good emis by starting a diysip of rs  10 000 in our sip picks  axis bank   gail  to realise your dreams  http   goo gl frwlg8 ref discl',\n",
       " 'raj tattva launched by rajesh lifespaces at thane w   book now at just 10  for 3 4 5 bhk homes with world class amenities  call 02266206705    mytattvamylife ',\n",
       " 'shop cj offer prestige 3 4 burner combo  3 burner   5690  4 burner   6290 watch 12 noon use code 002552 to get rs  250 off call 18605001860 valid only today ',\n",
       " 'get 25  cashback on bookmyshow when you pay with freecharge  max cashback rs 100  valid once per user  t c  http   frch in bms',\n",
       " 'flights starting  rs 309 after flat rs 600 cashback via ixigo  big discounts on indigo  spicejet  jet airways  https   goo gl rektrl book now  http   ixi to fly',\n",
       " 'xrbia xpress city near panvel  book your bunglow   avail loan at 0  interest for 8 years with emi of 34343  starting 54 94 lac  save min 14 4 lac  offer closes on diwali  visit www xrbiaxpresscity com or call 02261320007',\n",
       " 'earn rs 25 000 annually   also get a lumpsum of rs 4 3 lac at maturity with hdfc life by investing rs 2 269 per month  to know more  sms hds to 5667705  t c a',\n",
       " '1500  homes sold  now  lodha opens 4 new towers at palava s largest pre launch codename golden tomorrow  1  2   3 bhks starting rs  22 500 pm  call 02261474600',\n",
       " 'smileessentials comes to sobo with amazing cosmetic options to achieve bright attractive smile show this sms   get a whitening treatment  1999 call 9209200024',\n",
       " 'data usage alert  you have consumed 50  of the data usage limit on your airtel no  9769474395',\n",
       " 'data usage alert  you have consumed 50  of the data usage limit on your airtel no  9769474395',\n",
       " 'stmt for hdfcbank creditcard ending 7109 is generated min due rs 1520  total due rs 30385 77  pymt due on 08 nov 2016',\n",
       " 'diwali exclusive   flat 20  off on hicare cockroach control service   1000 payback points  service at rs1200  market price rs1500   sms pbac to 9773597735  tnc',\n",
       " 'lose your weight upto 2 kgs per week naturally  50  off on all plans  get my diet by anjali mukerjee  for 1st free consultation send sms am to 5667703',\n",
       " 'it s wacky wednesday today    buy 1 get 1 free on medium and large pizzas only at eagle boys pizza  chandivali  call   02241222212 13',\n",
       " 'rs 71 0 was deducted from your smartwallet  your smartwallet balance currently stands at rs 0 0',\n",
       " 'recharge of airtel mobile 9769474395 for rs 71 0 was successful  thanks for using smartapp ',\n",
       " 'ola  ride from the bangalore airport to the city at flat rs  499   this fare is applicable upto 50 kms  no code required  t c apply ',\n",
       " 'thomas cook  getting forex for your international holiday is just a call away  get best exchange rates   free doorstep delivery  t c  call now on 18002700650',\n",
       " 'get low cost online term plans starting at just rs  9 day   compare rates from 20  companies now  click here link  http   chk bz 9marghg0gk',\n",
       " 'meru diwali bonanza  save 45   get 20  instant off on meru exactometer trips   25  cashback using freecharge wallet  book on merucabs app   bit ly 2dos3uo   tca',\n",
       " 'popcorn   movie vouchers   rs  200 for you  all you gotta do is refer little app to your friends valid till oct 22  start referring now http   bit ly 2eij3q5',\n",
       " 'chillr   get 50  cashback on your 1st transaction on chillr  offer valid on any recharge or bill payments  max  cashback of rs 100  hurry  offer ends on 19th oct  t c  bit ly 2ebachv',\n",
       " 'your return pickup for 404 6480224 5160310 was successfully completed  we ll notify once the refund replacement is initiated  details  http   amzn in 0dpnzhy',\n",
       " 'zero cash advance fees on cash withdrawals upto rs 20000 with your hdfc bank credit card 7109 offer valid 1 31 oct 16 min withdrawal amount of rs 5000 t c apply',\n",
       " 'dear customer  for information on additional data topup for your airtel mobile  please sms extradata to 121',\n",
       " 'your return pickup for 404 6480224 5160310 has been scheduled for 18 oct between 2 00pm 5 00pm  details  http   amzn in 4idtc6r',\n",
       " 'your return pickup is scheduled for today and will be picked up between 2 00pm 5 00pm by amzagent 7022451728  details http   amzn in 9h4hrfj',\n",
       " 'fly from rs 256 after rs 600 cashback via ixigo  all inclusive flight fares  offer ends in 8 hours  hurry  https   goo gl nvvfsu  book now  http   ixi to 600',\n",
       " 'your return pickup for 404 6480224 5160310 has been scheduled for 18 oct between 2 00pm 5 00pm  details  http   amzn in 4idtc6r',\n",
       " 'mumbai  celebrate festive month with medlife  install https   goo gl f8y1qo   get flat 25  off  on 1st order on medicines  use coupon code mc25   t c apply',\n",
       " 'dear guest  boarding will close 25mins prior to departure  since this is a silent airport there will be no boarding announcement  we wish you a pleasant flight ',\n",
       " 'let the celebrations begin in weekend   get 2 eyeglasses or 2 sunglasses  rs1500 http   msg gd s ll1h6n npyhbs or visit lenskart store optout sms lens 567678',\n",
       " 'data usage alert  you have consumed 50  of the data usage limit on your airtel no  8454890600',\n",
       " 'data usage alert  you have consumed 50  of the data usage limit on your airtel no  8454890600',\n",
       " 'data usage alert  you have consumed 50  of the data usage limit on your airtel no  8454890600',\n",
       " 'data usage alert  you have consumed 50  of the data usage limit on your airtel no  8454890600',\n",
       " 'celebrate diwali in goa with sunstar the club  become a member today   win iphone7    5 star hotels for next 20 years   call 18005329979   9601922223 today ',\n",
       " 'why pay cash  pay with paytm at your favorite stores   get cashback every time  valid at big bazaar  more  central   others  click http   m p y tm mega',\n",
       " 'pre diwali offer  use code paint   get 20  off on painting services  limited slots  book now https   taskbob app link paint valid till 20th oct  max rs 399',\n",
       " 'hi my name is mr austin from santander bank uk i have a proposal of 5 million gbp for you if you interested contact me for details at austin marvin07 gmail com',\n",
       " 'rs 71 0 was added to your smartwallet via cashback  wallet balance is now rs 71 0  enjoy instant payments for your recharges with your smartwallet ',\n",
       " 'got a little more love for little  we cherish your response  do rate us 5 star on the play store too  https   goo gl dhj8ze  ',\n",
       " 'domino s weekend offer exclusively for you  buy 1 pizza   get 1 pizza free  walk in order  68886888  not valid on online orders cpn  mob06  vld till 16 oct t c',\n",
       " 'upto 60  off    rs 400 cashback  with oxigen wallet on ajio  shopclues  titan  voylla and recharges  load money   more  t c apply http   m owsms in rr70zz3u',\n",
       " 'enjoy the  bombastic  food fest on gorb this diwali  order   get your 1st meal free  use code  gogorb  t c apply  click  https   goo gl iplmuf',\n",
       " 'omg  45  saving on meru cabs  yes  now get 20  instant off on meru exactometer  25  cashback using freecharge wallet  book on merucabsapp  bit ly 2ecmtcv  tca',\n",
       " 'recharge of airtel mobile 9769474395 for rs 353 0 was successful  thanks for using smartapp ',\n",
       " 'verification code for your mobile is 196818  this verification is important for your account s safety ',\n",
       " 'come an explore the exciting world of our individual brand sites  https   goo gl p3xulr',\n",
       " 'get a pension of rs 50 000 per month   rs 1 crore for your family by investing rs 5 000 per month   save tax  t c apply  to know more  sms rv to 56161',\n",
       " 'your return pickup is scheduled for today and will be picked up between 2 00pm 5 00pm by amzagent 9108465705  details http   amzn in 9h4hrfj',\n",
       " 'fly spicejet  rs 835  goair  rs 850  indigo  rs 867   extra rs 600 cashback via ixigo  don t miss the cheapest airline fares  book today  http   ixi to 600',\n",
       " 'your return pickup for 404 6480224 5160310 was successfully completed  we ll notify once the refund replacement is initiated  details  http   amzn in 0dpnzhy',\n",
       " 'the cost of even one day hospitalization can really affect your savings  so buy health insurance today through hdfc bank  give a missed call on 7228923321',\n",
       " 'thanks for participating in prajasadhikara survey  data submitted successfully  your temporary gruha gurtimpu no  acks2220 govt of ap ',\n",
       " 'welcome to mumbai on airtel india s first open network  visit airtel in opennetwork to check network coverage  data rates remain same as your home network  to avail free incoming calls  sms roam to 121 ',\n",
       " 'your return pickup is scheduled for today and will be picked up between 11 00am 2 00pm by amzagent 7899842750  details http   amzn in 9h4hrfj',\n",
       " 'you have made a payment of rs  100 00 at little internet private l for order id 16101307354491815  contact paytm com care for any issues ',\n",
       " 'enjoy your great  little  deal   kfc   domestic terminal  more details   http   littleapp in myorders',\n",
       " 'you have registered paytm wallet with little  use otp 109625 to authorize little to deduct your wallet when you purchase a deal ',\n",
       " 'little referral coupon   25  off on your order  max rs  200 off  credited to your account  more details   http   littleapp in mycoupons',\n",
       " 'jet airways  for a seamless boarding experience  we request you to carry only 1 cabin bag up to 7kgs  guests with excess cabin baggage will be charged extra ',\n",
       " 'taskbob thursday is here  use code ttm100   get rs 100 off on your first service  experience the magic of taskbob  book here https   taskbob app link tm100',\n",
       " 'ola  your bill for krn187089733 is rs  48  incl of all taxes    distance  0 73km  ride time  16 minutes  please email us on support olacabs com for any query ',\n",
       " 'velu k  9844536352  is on the way to your location in auto ka04d3892    ',\n",
       " 'it s wacky wednesday  today    buy 1 get 1 free on medium and large pizzas only at eagle boys pizza  chandivali  call   02241222212 13 ',\n",
       " 'your return pickup for 404 6480224 5160310 has been scheduled for 13 oct between 11 00am 2 00pm  details  http   amzn in 4idtc6r',\n",
       " ' emtfestiveoffer  book air tickets starting at rs 888 only from easemytrip in  use code  emtfestive to save flat rs 1500 on domestic   rs 10000 on international',\n",
       " 'starting  rs 3499 get full car service   free monsoon car protection package with brake   clutch protection   electrical check up   more  sms znet 5667703',\n",
       " 'refer your friends   win taskbob s referral raavan competition  win 200 credits   vouchers from bewakoof com  till 21st oct  https   taskbob app link referral',\n",
       " 'last 9 hrs left for dessehra sale  2 eyeglasses with lenses or 2 sunglasses  rs1500 http   msg gd s n8jlhu m0flfv or in lenskart store optout sms lens 567678',\n",
       " 'last night to groove with the dandiya queen falguni pathak  grab your passes  get upto rs  500 cashback  code  raasgarba  click http   p y tm fnem  paytmkaro',\n",
       " 'shop cj wishes you   ur family happy dussehra use code 002525 to get rs  200 off on any purchase today valid till 11 pm tonight  call 18605001860  hurry now    ',\n",
       " 'dear hdfcbank cardmember  payment of rs 480 was credited to your card ending 7109 on 09 oct 2016 ',\n",
       " 'mumbai  celebrate this navratri with medlife  install https   goo gl f8y1qo and get flat 25  off on 1st order on medicines  use coupon code nvi25   t c apply',\n",
       " 'free dental check up  x ray   consultation at mydentist  clinics all over mumbai  for appointment give a missed call on 02261816309 www gs im m  t bzxgdkv0vqu',\n",
       " 'dear rider  enter promo boct40x2 and get 40  off on your next 2 uber rides in bangalore  valid till friday  14th october  max discount  inr 50 ride t c apply',\n",
       " 'lowest flight fares of the year on ixigo  domestic staring  rs 888   rs 600 cashback  international from rs 4399   rs 1000 cashback  hurry  http   ixi to fly',\n",
       " 'jai maa durga  hail the goddess with authentic traditional navratri thalis on gorb  get flat 30  off  use code  navratri  click https   goo gl nx1jzh',\n",
       " 'congratulations    pay just rs  5000 monthly   get pension of rs  50000 every month   rs  1 crore for your family after your death  sms rh to 5667705  t c apply',\n",
       " 'this festive season  multiply the joy with a pantaloons gift card  to buy click http   bit ly 1sox73v or visit our nearest store ',\n",
       " 'dear cardmember  payment of rs  480 00 received towards your credit card ending 7109 through autopay on 9 10 2016 your available limit is rs  23517 96',\n",
       " '894597 is your google verification code ',\n",
       " 'festive dusshera deal  up to 70  off   flat 10  cashback on purchase of t shirts  jeans  shoes   more  download fynd and start shopping http   go fyndi ng shop',\n",
       " 'upgrade to the feature packed   luxurious new age xuv500 with widest range of automatics starting rs 12 43 lakhs ex delhi to test drive click bit ly 2dycyx7 tnc',\n",
       " 'on 11th oct 2016  that is on dusshera  sms pack benefits   discounts will not apply on your airtel mobile  sms will be charged as per your bill plan \\r ',\n",
       " 'age 18 yrs on 1 1 2017  register your name in voterlist till 14 oct 2016 for municipal corporation  z p p s  election 2017  last chance  don t miss opportunity ',\n",
       " 'shubh navratri  pantaloons navratri collection now in stores  receive a rs 500 gift voucher on shopping for rs 3000 or gift vouchers worth rs 1000  2 gvs of rs 500 each  on shopping for rs 5000  voucher redeemable on next purchase of pantaloons exclusive apparel brands worth rs 2000  valid in mumbai tc',\n",
       " '30  off on the new taskbob deep cleaning packages  use code intro30  valid till tomorrow midnight max rs 499 off  book here https   taskbob app link intro30',\n",
       " 'redefine ur love for cooking with shopcj buy prestige red otg   rs  3995   black otg  rs 3895 with 3 free gifts watch 11 am  just give a missed call 02244443411',\n",
       " 'you ve earned rs 50 gocash  in your deepakrishna95 gmail com account because your contact booked a trip on goibibo  https   bnc lt w1ad z2sr1rihnt',\n",
       " 'age 18 yrs on 1 1 2017  register your name in voterlist till 14 oct 2016 for municipal corporation  z p p s  election 2017  last chance  don t miss opportunity ',\n",
       " 'rs5000 cashback for top spenders on hdfcbank cards every 15mins till 31dec 16 discover more ways to savesmart with bigshoppingcarnival visit bit ly 2e8yp5i  tc ',\n",
       " 'presenting samsung z2 a 4g smartphone with 1gb ram  8gb rom  quad core processor  5mp camera   rs 4790   on shopcj   9pm tonight  give missed call 02244443411',\n",
       " 'hdfcsec  hurry  endurance technologies ipo closes today   6 30 pm with a price band of rs  467   472   lot size 30 shares  click https   goo gl 9qcblt ref discl',\n",
       " 'get your body shape back  50  off on all plans  anjali mukerjee s health total  lose up to 2kgs week  natural ayurvedic plan  sms mbai to 56161',\n",
       " 'experience max performance with le max 2  4gb ram 32gb rom  21 mp camera  14 48  5 7  wqhd display and much more  buy now on snapdeal www gs im m  t jfzvge0syeg',\n",
       " 'lodha brings palava s largest pre launch  codename golden tomorrow  homes starting at an emi of 22500  1bhk 37 35l  2bhk 50 2l  3bhk at 57 96l call 02261356344',\n",
       " 'lodha brings to you luxury at affordable prices in mumbai  1 bhk   36 63 lac   fully a c homes  luxurious kitchen   bathrooms  know more  call on 9820042549',\n",
       " 'you can become the reason behind someones smile  sponsor for child education and help in building a bright future  to support click goo gl v59qez',\n",
       " 'biggest flight tickets sale  use code  flyfree   book your tickets  get upto 100  cashback  fares starting from rs  888   click http   m p y tm flyd  paytmkaro',\n",
       " 'this festive season book a flat   tater florence  karjat with down payment   rs 21000   only  100  loan  flats starts   rs 14 38  lacs all incl  call 8080330055',\n",
       " 'travel with chetan bhagat  get a free copy of  one indian girl  with each flight booking via ixigo till 3pm  hurry  http   ixi to cb  t c  https   goo gl 8xrujb',\n",
       " 'year s biggest pre launch by lodha group  a 44 storey skyscraper at new cuffe parade  20 mins from fort and bkc  1bhk 1 5cr   early bird offers call 02261747125',\n",
       " 'spy hidden camera in pen 3 2mp camera high quality spy video  audio recording expands upto 32gb  mrp 3000   offer price  rs1990 only  to order  sms hid to 56161',\n",
       " 'taskbob thursday is here  use code ttm100   get rs 100 off on your first service  experience the magic of taskbob  book here https   taskbob app link tm100',\n",
       " 'your ebill password lower case  is ndu0  for security reasons we advise you not to disclose your password  add ebill airtel com to your email contacts to avoid mail going to spam  for easy understanding of bill  click www airtel in billdemo',\n",
       " 'whatsapp code 535 411   you can also tap on this link to verify your phone  v whatsapp com 535411',\n",
       " 'ccapp s110101901666 250400',\n",
       " 'dude where are u ']"
      ]
     },
     "execution_count": 85,
     "metadata": {},
     "output_type": "execute_result"
    }
   ],
   "source": [
    "getClusters(kmeansPCAVersion.labels_,cleanedMessageList,29)"
   ]
  },
  {
   "cell_type": "code",
   "execution_count": 84,
   "metadata": {
    "collapsed": false
   },
   "outputs": [
    {
     "data": {
      "text/plain": [
       "[(0, 7),\n",
       " (1, 34),\n",
       " (2, 5),\n",
       " (3, 2),\n",
       " (4, 7),\n",
       " (5, 38),\n",
       " (6, 19),\n",
       " (7, 1),\n",
       " (8, 18),\n",
       " (9, 2),\n",
       " (10, 2),\n",
       " (11, 18),\n",
       " (12, 4),\n",
       " (13, 1),\n",
       " (14, 6),\n",
       " (15, 17),\n",
       " (16, 4),\n",
       " (17, 11),\n",
       " (18, 47),\n",
       " (19, 1),\n",
       " (20, 18),\n",
       " (21, 1),\n",
       " (22, 3),\n",
       " (23, 30),\n",
       " (24, 12),\n",
       " (25, 14),\n",
       " (26, 2),\n",
       " (27, 6),\n",
       " (28, 11),\n",
       " (29, 289)]"
      ]
     },
     "execution_count": 84,
     "metadata": {},
     "output_type": "execute_result"
    }
   ],
   "source": [
    "[(i,len(getClusters(kmeansPCAVersion.labels_,messageList,i))) for i in range(30)]"
   ]
  },
  {
   "cell_type": "code",
   "execution_count": null,
   "metadata": {
    "collapsed": true
   },
   "outputs": [],
   "source": []
  }
 ],
 "metadata": {
  "kernelspec": {
   "display_name": "Python [Root]",
   "language": "python",
   "name": "Python [Root]"
  },
  "language_info": {
   "codemirror_mode": {
    "name": "ipython",
    "version": 2
   },
   "file_extension": ".py",
   "mimetype": "text/x-python",
   "name": "python",
   "nbconvert_exporter": "python",
   "pygments_lexer": "ipython2",
   "version": "2.7.12"
  }
 },
 "nbformat": 4,
 "nbformat_minor": 0
}
