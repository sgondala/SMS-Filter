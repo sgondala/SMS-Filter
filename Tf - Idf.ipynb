{
 "cells": [
  {
   "cell_type": "code",
   "execution_count": 39,
   "metadata": {
    "collapsed": true
   },
   "outputs": [],
   "source": [
    "import csv\n",
    "import string\n",
    "import numpy as np\n",
    "import math\n",
    "from nltk.corpus import stopwords"
   ]
  },
  {
   "cell_type": "code",
   "execution_count": 2,
   "metadata": {
    "collapsed": true
   },
   "outputs": [],
   "source": [
    "words = {}\n",
    "wordIndex = 0\n",
    "punctuations = string.punctuation + '\\n'"
   ]
  },
  {
   "cell_type": "code",
   "execution_count": 42,
   "metadata": {
    "collapsed": false
   },
   "outputs": [],
   "source": [
    "stop = set(stopwords.words('english'))"
   ]
  },
  {
   "cell_type": "code",
   "execution_count": 3,
   "metadata": {
    "collapsed": true
   },
   "outputs": [],
   "source": [
    "def getProperSentence(sentence):\n",
    "    returnSentence = sentence.lower()\n",
    "    replace_punctuation = string.maketrans(punctuations, ' '*len(punctuations))\n",
    "    returnSentence = returnSentence.translate(replace_punctuation)\n",
    "    return returnSentence"
   ]
  },
  {
   "cell_type": "code",
   "execution_count": 4,
   "metadata": {
    "collapsed": true
   },
   "outputs": [],
   "source": [
    "messageList = []\n",
    "cleanedMessageList = []"
   ]
  },
  {
   "cell_type": "code",
   "execution_count": 5,
   "metadata": {
    "collapsed": true
   },
   "outputs": [],
   "source": [
    "def populateMessageList():\n",
    "    with open('train.csv','rb') as train:\n",
    "        reader = csv.reader(train)\n",
    "        for row in reader:\n",
    "            message =row[4]\n",
    "            messageList.append(message)\n",
    "            \n",
    "populateMessageList()\n",
    "\n",
    "def populateCleanedMessageList():\n",
    "    with open('train.csv','rb') as train:\n",
    "        reader = csv.reader(train)\n",
    "        for row in reader:\n",
    "            message =row[4]\n",
    "            cleanedMessageList.append(getProperSentence(message))\n",
    "            \n",
    "populateCleanedMessageList()"
   ]
  },
  {
   "cell_type": "code",
   "execution_count": 6,
   "metadata": {
    "collapsed": false
   },
   "outputs": [],
   "source": [
    "wordsIndex = {}\n",
    "wordCount = 0\n",
    "wordCountForIdf = {}"
   ]
  },
  {
   "cell_type": "code",
   "execution_count": null,
   "metadata": {
    "collapsed": false
   },
   "outputs": [],
   "source": []
  },
  {
   "cell_type": "code",
   "execution_count": 7,
   "metadata": {
    "collapsed": false
   },
   "outputs": [],
   "source": [
    "def populateWordsIndex():\n",
    "    global wordCount\n",
    "    for message in cleanedMessageList:\n",
    "        for word in message.split(' '):\n",
    "            if not word.isdigit():\n",
    "                if word not in wordsIndex:\n",
    "                    wordsIndex[word] = wordCount\n",
    "                    wordCount += 1\n",
    "\n",
    "populateWordsIndex()"
   ]
  },
  {
   "cell_type": "code",
   "execution_count": 8,
   "metadata": {
    "collapsed": false
   },
   "outputs": [],
   "source": [
    "def populateWordCountForIdf():\n",
    "    for word in wordsIndex:\n",
    "        count = 0\n",
    "        for message in cleanedMessageList:\n",
    "            if word in message:\n",
    "                count += 1\n",
    "        wordCountForIdf[word] = count\n",
    "        \n",
    "populateWordCountForIdf()"
   ]
  },
  {
   "cell_type": "code",
   "execution_count": 45,
   "metadata": {
    "collapsed": false
   },
   "outputs": [],
   "source": [
    "stopWordsRemovedCount = 0\n",
    "stopWordsRemovedIndex = {}\n",
    "for word in wordsIndex:\n",
    "    if word not in stop:\n",
    "        stopWordsRemovedIndex[word] = stopWordsRemovedCount\n",
    "        stopWordsRemovedCount += 1\n"
   ]
  },
  {
   "cell_type": "code",
   "execution_count": 47,
   "metadata": {
    "collapsed": false
   },
   "outputs": [
    {
     "data": {
      "text/plain": [
       "2130"
      ]
     },
     "execution_count": 47,
     "metadata": {},
     "output_type": "execute_result"
    }
   ],
   "source": []
  },
  {
   "cell_type": "code",
   "execution_count": 9,
   "metadata": {
    "collapsed": false
   },
   "outputs": [],
   "source": [
    "def tf(givenWord, message): #Assuming cleaned message\n",
    "    count = 0\n",
    "    for word in message.split(' '):\n",
    "        if givenWord == word:\n",
    "            count += 1.0 \n",
    "    return count\n",
    "\n",
    "def idf(givenWord):\n",
    "    N = len(messageList)\n",
    "    n = wordCountForIdf[givenWord]\n",
    "    return math.log(N*1.0/(1+n))"
   ]
  },
  {
   "cell_type": "code",
   "execution_count": 48,
   "metadata": {
    "collapsed": false
   },
   "outputs": [],
   "source": [
    "def makeFeatureVector(sentence):\n",
    "    tempSen = sentence\n",
    "    retVal = np.zeros(wordCount)\n",
    "    for word in tempSen.split(' '):\n",
    "        if word.isdigit():\n",
    "            continue\n",
    "        indexOfWord = wordsIndex[word]\n",
    "        retVal[indexOfWord] = tf(word,tempSen)*idf(word)\n",
    "    return retVal\n",
    "\n",
    "def makeFeatureVectorWithoutStopwords(sentence):\n",
    "    tempSen = sentence\n",
    "    retVal = np.zeros(stopWordsRemovedCount)\n",
    "    for word in tempSen.split(' '):\n",
    "        if word.isdigit() or word in stop:\n",
    "            continue\n",
    "        indexOfWord = stopWordsRemovedIndex[word]\n",
    "        retVal[indexOfWord] = tf(word,tempSen)*idf(word)\n",
    "    return retVal\n",
    "    "
   ]
  },
  {
   "cell_type": "code",
   "execution_count": 49,
   "metadata": {
    "collapsed": true
   },
   "outputs": [],
   "source": [
    "def returnFeatureSet(makeFeatureFunction):\n",
    "    index = 0\n",
    "    ret = np.array([])\n",
    "    for message in cleanedMessageList:        \n",
    "        featureVector = makeFeatureFunction(message)\n",
    "#             print featureVector\n",
    "        if index == 0:\n",
    "            ret = np.hstack((ret,featureVector))\n",
    "            index = index + 1\n",
    "        else:\n",
    "            ret = np.vstack((ret, featureVector))\n",
    "    return ret"
   ]
  },
  {
   "cell_type": "code",
   "execution_count": 53,
   "metadata": {
    "collapsed": false
   },
   "outputs": [],
   "source": [
    "featureVectorSet = returnFeatureSet(makeFeatureVector)\n",
    "stopwordLessFeatureVectorSet = returnFeatureSet(makeFeatureVectorWithoutStopwords)"
   ]
  },
  {
   "cell_type": "code",
   "execution_count": 13,
   "metadata": {
    "collapsed": false
   },
   "outputs": [],
   "source": [
    "from sklearn.cluster import KMeans"
   ]
  },
  {
   "cell_type": "code",
   "execution_count": 56,
   "metadata": {
    "collapsed": true
   },
   "outputs": [],
   "source": [
    "kmeans = KMeans(n_clusters=20, random_state=0).fit(stopwordLessFeatureVectorSet)"
   ]
  },
  {
   "cell_type": "code",
   "execution_count": 15,
   "metadata": {
    "collapsed": true
   },
   "outputs": [],
   "source": [
    "def getClusters(clusterIndices, messageList, requiredIndex):\n",
    "    retVal = []\n",
    "    for i in range(len(clusterIndices)):\n",
    "        if clusterIndices[i] == requiredIndex:\n",
    "            retVal.append(messageList[i])\n",
    "    return retVal"
   ]
  },
  {
   "cell_type": "code",
   "execution_count": 60,
   "metadata": {
    "collapsed": false
   },
   "outputs": [
    {
     "data": {
      "text/plain": [
       "['dear krishna deepak  thanks for booking with us  reach your oyo  reach jss hospital main gate  head east  16 m  turn left onto mg road and pass by hotel malgudi on the left for 160 m  then take a u turn at shankar mutt road and you will spot oyo on your left  28m    map link  http   bit ly mys028 hotel reception contact  04038416830']"
      ]
     },
     "execution_count": 60,
     "metadata": {},
     "output_type": "execute_result"
    }
   ],
   "source": [
    "getClusters(kmeans.labels_,cleanedMessageList,3)"
   ]
  },
  {
   "cell_type": "code",
   "execution_count": 57,
   "metadata": {
    "collapsed": false
   },
   "outputs": [
    {
     "data": {
      "text/plain": [
       "[(0, 1),\n",
       " (1, 13),\n",
       " (2, 384),\n",
       " (3, 1),\n",
       " (4, 2),\n",
       " (5, 4),\n",
       " (6, 2),\n",
       " (7, 11),\n",
       " (8, 12),\n",
       " (9, 38),\n",
       " (10, 4),\n",
       " (11, 31),\n",
       " (12, 2),\n",
       " (13, 2),\n",
       " (14, 16),\n",
       " (15, 15),\n",
       " (16, 17),\n",
       " (17, 1),\n",
       " (18, 3),\n",
       " (19, 71)]"
      ]
     },
     "execution_count": 57,
     "metadata": {},
     "output_type": "execute_result"
    }
   ],
   "source": [
    "[(i,len(getClusters(kmeans.labels_,messageList,i))) for i in range(20)]"
   ]
  }
 ],
 "metadata": {
  "kernelspec": {
   "display_name": "Python [Root]",
   "language": "python",
   "name": "Python [Root]"
  },
  "language_info": {
   "codemirror_mode": {
    "name": "ipython",
    "version": 2
   },
   "file_extension": ".py",
   "mimetype": "text/x-python",
   "name": "python",
   "nbconvert_exporter": "python",
   "pygments_lexer": "ipython2",
   "version": "2.7.12"
  }
 },
 "nbformat": 4,
 "nbformat_minor": 0
}
