{
 "cells": [
  {
   "cell_type": "code",
   "execution_count": 26,
   "metadata": {
    "collapsed": true
   },
   "outputs": [],
   "source": [
    "import csv\n",
    "import string\n",
    "import numpy as np\n",
    "import math"
   ]
  },
  {
   "cell_type": "code",
   "execution_count": 2,
   "metadata": {
    "collapsed": true
   },
   "outputs": [],
   "source": [
    "words = {}\n",
    "wordIndex = 0\n",
    "punctuations = string.punctuation + '\\n'"
   ]
  },
  {
   "cell_type": "code",
   "execution_count": 3,
   "metadata": {
    "collapsed": true
   },
   "outputs": [],
   "source": [
    "def getProperSentence(sentence):\n",
    "    returnSentence = sentence.lower()\n",
    "    replace_punctuation = string.maketrans(punctuations, ' '*len(punctuations))\n",
    "    returnSentence = returnSentence.translate(replace_punctuation)\n",
    "    return returnSentence"
   ]
  },
  {
   "cell_type": "code",
   "execution_count": 4,
   "metadata": {
    "collapsed": true
   },
   "outputs": [],
   "source": [
    "messageList = []\n",
    "cleanedMessageList = []"
   ]
  },
  {
   "cell_type": "code",
   "execution_count": 5,
   "metadata": {
    "collapsed": true
   },
   "outputs": [],
   "source": [
    "def populateMessageList():\n",
    "    with open('train.csv','rb') as train:\n",
    "        reader = csv.reader(train)\n",
    "        for row in reader:\n",
    "            message =row[4]\n",
    "            messageList.append(message)\n",
    "            \n",
    "populateMessageList()\n",
    "\n",
    "def populateCleanedMessageList():\n",
    "    with open('train.csv','rb') as train:\n",
    "        reader = csv.reader(train)\n",
    "        for row in reader:\n",
    "            message =row[4]\n",
    "            cleanedMessageList.append(getProperSentence(message))\n",
    "            \n",
    "populateCleanedMessageList()"
   ]
  },
  {
   "cell_type": "code",
   "execution_count": 6,
   "metadata": {
    "collapsed": false
   },
   "outputs": [],
   "source": [
    "wordsIndex = {}\n",
    "wordCount = 0\n",
    "wordCountForIdf = {}"
   ]
  },
  {
   "cell_type": "code",
   "execution_count": null,
   "metadata": {
    "collapsed": false
   },
   "outputs": [],
   "source": []
  },
  {
   "cell_type": "code",
   "execution_count": 9,
   "metadata": {
    "collapsed": false
   },
   "outputs": [],
   "source": [
    "def populateWordsIndex():\n",
    "    global wordCount\n",
    "    for message in cleanedMessageList:\n",
    "        for word in message.split(' '):\n",
    "            if not word.isdigit():\n",
    "                if word not in wordsIndex:\n",
    "                    wordsIndex[word] = wordCount\n",
    "                    wordCount += 1\n",
    "\n",
    "populateWordsIndex()"
   ]
  },
  {
   "cell_type": "code",
   "execution_count": 13,
   "metadata": {
    "collapsed": false
   },
   "outputs": [],
   "source": [
    "def populateWordCountForIdf():\n",
    "    for word in wordsIndex:\n",
    "        count = 0\n",
    "        for message in cleanedMessageList:\n",
    "            if word in message:\n",
    "                count += 1\n",
    "        wordCountForIdf[word] = count\n",
    "        \n",
    "populateWordCountForIdf()"
   ]
  },
  {
   "cell_type": "code",
   "execution_count": 43,
   "metadata": {
    "collapsed": false
   },
   "outputs": [],
   "source": [
    "def tf(givenWord, message): #Assuming cleaned message\n",
    "    count = 0\n",
    "    for word in message.split(' '):\n",
    "        if givenWord == word:\n",
    "            count += 1.0 \n",
    "    return count\n",
    "\n",
    "def idf(givenWord):\n",
    "    N = len(messageList)\n",
    "    n = wordCountForIdf[givenWord]\n",
    "    return math.log(N*1.0/(1+n))"
   ]
  },
  {
   "cell_type": "code",
   "execution_count": 55,
   "metadata": {
    "collapsed": false
   },
   "outputs": [],
   "source": [
    "def makeFeatureVector(sentence):\n",
    "    tempSen = sentence\n",
    "    retVal = np.zeros(wordCount)\n",
    "    for word in tempSen.split(' '):\n",
    "        if word.isdigit():\n",
    "            continue\n",
    "        indexOfWord = wordsIndex[word]\n",
    "        retVal[indexOfWord] = tf(word,tempSen)*idf(word)\n",
    "    return retVal"
   ]
  },
  {
   "cell_type": "code",
   "execution_count": 52,
   "metadata": {
    "collapsed": true
   },
   "outputs": [],
   "source": [
    "def returnFeatureSet():\n",
    "    index = 0\n",
    "    ret = np.array([])\n",
    "    with open('train.csv','rb') as train:\n",
    "        reader = csv.reader(train)\n",
    "        for row in reader:        \n",
    "            featureVector = makeFeatureVector(row[4])\n",
    "#             print featureVector\n",
    "            if index == 0:\n",
    "                ret = np.hstack((ret,featureVector))\n",
    "                index = index + 1\n",
    "            else:\n",
    "                ret = np.vstack((ret, featureVector))\n",
    "    return ret"
   ]
  },
  {
   "cell_type": "code",
   "execution_count": 56,
   "metadata": {
    "collapsed": false
   },
   "outputs": [
    {
     "ename": "IndexError",
     "evalue": "index 41 is out of bounds for axis 0 with size 0",
     "output_type": "error",
     "traceback": [
      "\u001b[1;31m---------------------------------------------------------------------------\u001b[0m",
      "\u001b[1;31mIndexError\u001b[0m                                Traceback (most recent call last)",
      "\u001b[1;32m<ipython-input-56-6da47ce3ae17>\u001b[0m in \u001b[0;36m<module>\u001b[1;34m()\u001b[0m\n\u001b[1;32m----> 1\u001b[1;33m \u001b[0mmakeFeatureVector\u001b[0m\u001b[1;33m(\u001b[0m\u001b[0mcleanedMessageList\u001b[0m\u001b[1;33m[\u001b[0m\u001b[1;36m1\u001b[0m\u001b[1;33m]\u001b[0m\u001b[1;33m)\u001b[0m\u001b[1;33m\u001b[0m\u001b[0m\n\u001b[0m",
      "\u001b[1;32m<ipython-input-55-61209a983cb4>\u001b[0m in \u001b[0;36mmakeFeatureVector\u001b[1;34m(sentence)\u001b[0m\n\u001b[0;32m      6\u001b[0m             \u001b[1;32mcontinue\u001b[0m\u001b[1;33m\u001b[0m\u001b[0m\n\u001b[0;32m      7\u001b[0m         \u001b[0mindexOfWord\u001b[0m \u001b[1;33m=\u001b[0m \u001b[0mwordsIndex\u001b[0m\u001b[1;33m[\u001b[0m\u001b[0mword\u001b[0m\u001b[1;33m]\u001b[0m\u001b[1;33m\u001b[0m\u001b[0m\n\u001b[1;32m----> 8\u001b[1;33m         \u001b[0mretVal\u001b[0m\u001b[1;33m[\u001b[0m\u001b[0mindexOfWord\u001b[0m\u001b[1;33m]\u001b[0m \u001b[1;33m=\u001b[0m \u001b[0mtf\u001b[0m\u001b[1;33m(\u001b[0m\u001b[0mword\u001b[0m\u001b[1;33m,\u001b[0m\u001b[0mtempSen\u001b[0m\u001b[1;33m)\u001b[0m\u001b[1;33m*\u001b[0m\u001b[0midf\u001b[0m\u001b[1;33m(\u001b[0m\u001b[0mword\u001b[0m\u001b[1;33m)\u001b[0m\u001b[1;33m\u001b[0m\u001b[0m\n\u001b[0m\u001b[0;32m      9\u001b[0m     \u001b[1;32mreturn\u001b[0m \u001b[0mretVal\u001b[0m\u001b[1;33m\u001b[0m\u001b[0m\n",
      "\u001b[1;31mIndexError\u001b[0m: index 41 is out of bounds for axis 0 with size 0"
     ]
    }
   ],
   "source": [
    "makeFeatureVector(cleanedMessageList[1])"
   ]
  },
  {
   "cell_type": "code",
   "execution_count": null,
   "metadata": {
    "collapsed": true
   },
   "outputs": [],
   "source": []
  }
 ],
 "metadata": {
  "kernelspec": {
   "display_name": "Python [Root]",
   "language": "python",
   "name": "Python [Root]"
  },
  "language_info": {
   "codemirror_mode": {
    "name": "ipython",
    "version": 2
   },
   "file_extension": ".py",
   "mimetype": "text/x-python",
   "name": "python",
   "nbconvert_exporter": "python",
   "pygments_lexer": "ipython2",
   "version": "2.7.12"
  }
 },
 "nbformat": 4,
 "nbformat_minor": 0
}
