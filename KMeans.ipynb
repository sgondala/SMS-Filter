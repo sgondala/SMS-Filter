{
 "cells": [
  {
   "cell_type": "code",
   "execution_count": 8,
   "metadata": {
    "collapsed": true
   },
   "outputs": [],
   "source": [
    "import csv\n",
    "import string\n",
    "import numpy as np"
   ]
  },
  {
   "cell_type": "code",
   "execution_count": 9,
   "metadata": {
    "collapsed": true
   },
   "outputs": [],
   "source": [
    "words = {}\n",
    "wordIndex = 0\n",
    "punctuations = string.punctuation + '\\n'"
   ]
  },
  {
   "cell_type": "code",
   "execution_count": 28,
   "metadata": {
    "collapsed": true
   },
   "outputs": [],
   "source": [
    "def getProperSentence(sentence):\n",
    "    returnSentence = sentence.lower()\n",
    "    replace_punctuation = string.maketrans(punctuations, ' '*len(punctuations))\n",
    "    returnSentence = returnSentence.translate(replace_punctuation)\n",
    "    return returnSentence"
   ]
  },
  {
   "cell_type": "code",
   "execution_count": 29,
   "metadata": {
    "collapsed": false
   },
   "outputs": [],
   "source": [
    "with open('train.csv','rb') as train:\n",
    "    reader = csv.reader(train)\n",
    "    for row in reader:\n",
    "        message = getProperSentence(row[4])\n",
    "        for word in message.split(' '):\n",
    "            if not word.isdigit():\n",
    "                if word not in words:\n",
    "                    words[word] = wordIndex\n",
    "                    wordIndex = wordIndex + 1"
   ]
  },
  {
   "cell_type": "code",
   "execution_count": 30,
   "metadata": {
    "collapsed": false
   },
   "outputs": [
    {
     "data": {
      "text/plain": [
       "2229"
      ]
     },
     "execution_count": 30,
     "metadata": {},
     "output_type": "execute_result"
    }
   ],
   "source": [
    "wordIndex"
   ]
  },
  {
   "cell_type": "code",
   "execution_count": 65,
   "metadata": {
    "collapsed": false
   },
   "outputs": [],
   "source": [
    "def makeFeatureVector(sentence):\n",
    "    tempSen = getProperSentence(sentence)\n",
    "    retVal = np.zeros(wordIndex)\n",
    "    for word in tempSen.split(' '):\n",
    "        if word.isdigit():\n",
    "            continue\n",
    "        indexOfWord = words[word]\n",
    "        retVal[indexOfWord] = 1\n",
    "    return retVal"
   ]
  },
  {
   "cell_type": "code",
   "execution_count": 128,
   "metadata": {
    "collapsed": false
   },
   "outputs": [],
   "source": [
    "def returnFeatureSet():\n",
    "    index = 0\n",
    "    ret = np.array([])\n",
    "    with open('train.csv','rb') as train:\n",
    "        reader = csv.reader(train)\n",
    "        for row in reader:        \n",
    "            featureVector = makeFeatureVector(row[4])\n",
    "#             print featureVector\n",
    "            if index == 0:\n",
    "                ret = np.hstack((ret,featureVector))\n",
    "                index = index + 1\n",
    "            else:\n",
    "                ret = np.vstack((ret, featureVector))\n",
    "    return ret"
   ]
  },
  {
   "cell_type": "code",
   "execution_count": 130,
   "metadata": {
    "collapsed": false
   },
   "outputs": [],
   "source": [
    "featureVectorSet = returnFeatureSet()"
   ]
  },
  {
   "cell_type": "code",
   "execution_count": 132,
   "metadata": {
    "collapsed": true
   },
   "outputs": [],
   "source": [
    "from sklearn.cluster import KMeans"
   ]
  },
  {
   "cell_type": "code",
   "execution_count": 179,
   "metadata": {
    "collapsed": true
   },
   "outputs": [],
   "source": [
    "kmeans = KMeans(n_clusters=5, random_state=0).fit(featureVectorSet)"
   ]
  },
  {
   "cell_type": "code",
   "execution_count": 180,
   "metadata": {
    "collapsed": false
   },
   "outputs": [
    {
     "data": {
      "text/plain": [
       "array([2, 1, 2, 2, 2, 2, 2, 2, 2, 1, 2, 2, 1, 1, 3, 1, 1, 2, 4, 1, 1, 2, 2,\n",
       "       3, 2, 1, 2, 2, 0, 1, 2, 2, 2, 3, 3, 2, 2, 1, 2, 1, 1, 2, 2, 2, 1, 2,\n",
       "       1, 2, 2, 2, 1, 2, 2, 2, 2, 0, 2, 2, 1, 2, 2, 0, 2, 0, 0, 2, 1, 2, 3,\n",
       "       2, 2, 2, 2, 2, 1, 1, 4, 2, 1, 3, 2, 1, 1, 2, 2, 2, 4, 4, 2, 1, 2, 0,\n",
       "       2, 2, 2, 2, 2, 2, 1, 3, 3, 3, 3, 3, 2, 1, 2, 2, 2, 1, 2, 2, 2, 2, 2,\n",
       "       2, 2, 2, 2, 2, 2, 2, 2, 2, 2, 2, 2, 1, 2, 2, 2, 2, 0, 2, 2, 2, 2, 2,\n",
       "       2, 2, 2, 2, 2, 2, 2, 0, 2, 0, 2, 2, 2, 0, 1, 2, 4, 1, 2, 1, 2, 2, 2,\n",
       "       2, 2, 0, 2, 2, 3, 2, 2, 2, 2, 0, 2, 2, 2, 0, 1, 2, 2, 2, 2, 2, 2, 2,\n",
       "       0, 1, 2, 2, 0, 1, 2, 2, 2, 0, 2, 2, 2, 1, 0, 2, 2, 2, 0, 2, 1, 1, 3,\n",
       "       2, 2, 2, 1, 2, 2, 2, 3, 0, 2, 2, 2, 1, 2, 2, 2, 1, 2, 2, 1, 4, 2, 1,\n",
       "       2, 2, 2, 2, 2, 2, 2, 2, 2, 1, 2, 2, 2, 1, 2, 2, 2, 2, 2, 2, 2, 4, 2,\n",
       "       2, 2, 3, 2, 2, 2, 3, 3, 3, 3, 1, 2, 1, 1, 2, 2, 3, 2, 1, 2, 2, 2, 3,\n",
       "       0, 3, 2, 2, 1, 2, 2, 2, 2, 2, 3, 2, 2, 2, 4, 2, 2, 2, 3, 3, 3, 2, 2,\n",
       "       2, 2, 2, 2, 2, 2, 2, 1, 2, 2, 1, 2, 3, 2, 3, 2, 1, 2, 2, 0, 2, 2, 2,\n",
       "       2, 0, 2, 2, 2, 2, 2, 2, 2, 2, 0, 2, 2, 1, 2, 2, 4, 2, 2, 1, 1, 2, 3,\n",
       "       1, 2, 2, 2, 2, 2, 3, 2, 2, 2, 2, 2, 0, 2, 2, 2, 2, 2, 2, 1, 2, 4, 0,\n",
       "       2, 2, 2, 2, 2, 2, 4, 2, 2, 2, 2, 2, 2, 4, 2, 2, 2, 2, 1, 3, 1, 2, 2,\n",
       "       1, 2, 2, 3, 3, 2, 1, 4, 4, 4, 2, 2, 1, 2, 2, 2, 1, 2, 2, 3, 3, 2, 2,\n",
       "       2, 1, 2, 3, 2, 1, 3, 2, 3, 2, 2, 2, 2, 1, 3, 2, 2, 2, 1, 2, 4, 2, 2,\n",
       "       2, 1, 2, 2, 2, 2, 2, 2, 3, 0, 3, 2, 3, 3, 1, 2, 2, 2, 2, 2, 2, 3, 2,\n",
       "       2, 1, 1, 2, 2, 0, 2, 3, 0, 2, 2, 2, 2, 2, 2, 2, 2, 2, 1, 1, 2, 0, 2,\n",
       "       2, 2, 1, 2, 3, 2, 4, 1, 2, 1, 2, 2, 2, 0, 2, 2, 0, 0, 0, 3, 1, 3, 2,\n",
       "       0, 2, 0, 0, 2, 1, 2, 2, 2, 1, 1, 2, 2, 2, 3, 2, 0, 2, 1, 0, 2, 0, 1,\n",
       "       2, 1, 2, 2, 2, 2, 2, 1, 0, 2, 2, 2, 2, 2, 2, 2, 2, 2, 0, 1, 2, 2, 2,\n",
       "       2, 1, 2, 1, 2, 2, 2, 2, 1, 1, 4, 4, 2, 2, 1, 1, 2, 2, 1, 2, 1, 1, 2,\n",
       "       2, 1, 2, 2, 1, 2, 2, 1, 2, 2, 2, 3, 2, 2, 2, 1, 2, 2, 2, 2, 1, 2, 2,\n",
       "       0, 2, 1, 2, 1, 1, 2, 4, 2, 2, 2, 0, 2, 2, 2, 2, 1, 3, 1, 2, 2, 2, 2,\n",
       "       2, 2, 2, 2, 2, 3, 2, 2, 2], dtype=int32)"
      ]
     },
     "execution_count": 180,
     "metadata": {},
     "output_type": "execute_result"
    }
   ],
   "source": [
    "kmeans.labels_"
   ]
  },
  {
   "cell_type": "code",
   "execution_count": 181,
   "metadata": {
    "collapsed": true
   },
   "outputs": [],
   "source": [
    "messageList = []"
   ]
  },
  {
   "cell_type": "code",
   "execution_count": 182,
   "metadata": {
    "collapsed": false
   },
   "outputs": [],
   "source": [
    "def populateMessageList():\n",
    "    with open('train.csv','rb') as train:\n",
    "        reader = csv.reader(train)\n",
    "        for row in reader:\n",
    "            message =row[4]\n",
    "            messageList.append(message)\n",
    "populateMessageList()"
   ]
  },
  {
   "cell_type": "code",
   "execution_count": 192,
   "metadata": {
    "collapsed": false
   },
   "outputs": [
    {
     "data": {
      "text/plain": [
       "['Buy till Sunday & get EXTRA 300-500 OFF over& above all offers@ www.lenskart.com/cust or Visit Store.1st Time Ever:300 OFF +1st Frame Free; 500 OFF+ 2 for 2500',\n",
       " 'nitish chandra has requested Rs.5000.0 from you. Click on this link to pay: http://m.p-y.tm/stom',\n",
       " 'Faasos App Code : 4893 . For verifying your phone number, not some secret treasure.',\n",
       " 'Faasos App Code : 1752 . For verifying your phone number, not some secret treasure.']"
      ]
     },
     "execution_count": 192,
     "metadata": {},
     "output_type": "execute_result"
    }
   ],
   "source": [
    "messageList[1:5]"
   ]
  },
  {
   "cell_type": "code",
   "execution_count": 184,
   "metadata": {
    "collapsed": false
   },
   "outputs": [],
   "source": [
    "def getClusters(clusterIndices, messageList, requiredIndex):\n",
    "    retVal = []\n",
    "    for i in range(len(clusterIndices)):\n",
    "        if clusterIndices[i] == requiredIndex:\n",
    "            retVal.append(messageList[i])\n",
    "    return retVal"
   ]
  },
  {
   "cell_type": "code",
   "execution_count": 193,
   "metadata": {
    "collapsed": false
   },
   "outputs": [
    {
     "data": {
      "text/plain": [
       "[\"Papa John's Pizza announces Buy1 & Get1 Free For Next 3 Days on Med/Large pizzas, Order @ 180030107272 or https://goo.gl/bMJ1Gt Code: PJFRI01 T&C Apply.\",\n",
       " \"Papa John's announces Terrific Tuesday, Buy1 & Get1 on Med/Large pizza, Call 180030107272 or order at https://goo.gl/jxFxwT Code:PJTT001 *T&C apply\",\n",
       " \"Post Diwali Sale: 30% OFF* on medicines from Medlife. Install goo.gl/F8y1qO or Call 02260708090. Use DIWI30. Valid on 1st order, till 10 Nov'16. *T&C apply\",\n",
       " \"Papa John's Pizza announces Buy any 2 med pizzas at only Rs. 189* each. Call 180030107272 or Order @ http://goo.gl/4cvZtG .T&C* Apply code: PJLTO1\",\n",
       " \"For cheesier a weekend- buy 1 get 1 pizza free from Papa John's. Order your Crust Of Happiness @ https://goo.gl/dh7m1y or 180030107272. Use PJFRI01 T&C*\",\n",
       " \"Celebrate Diwali with pizzas from Papa John's. Buy1 & Get1 Free on Medium/Large Pizzas, Order@ 180030107272 or http://goo.gl/4cvZtG Code: PJFRI01 T&C Apply*\",\n",
       " \"Papa John's Pizza Diwali Special Evening Buy1 & Get1 Free on Med/Large Pizzas Only Today, Order @ 180030107272 or http://goo.gl/4cvZtG Code: PJFRI01 T&C Apply\",\n",
       " \"This Diwali, get 2 Med pizzas @189 each & bring home the Crust Of Happiness from Papa John's. Call 180030107272 or http://goo.gl/4cvZtG Use-PJLTO1 T&C*\",\n",
       " \"Grand Diwali Sale: 30% OFF* on medicines from Medlife. Install goo.gl/F8y1qO or Call 02260708090. Use DIWI30. Valid on 1st order, till 28 Oct'16. *T&C apply\",\n",
       " \"It's Terrific Tuesday @ Papa John's!Get a free pizza with your order of Med/Lar ATC Pizza.Order @ 180030107272 or http://goo.gl/4cvZtG Code:PJTT001 T&C Apply\",\n",
       " \"Papa John's Pizza announces Buy any 2 med pizzas at only Rs. 189* each. Call 180030107272 or Order @ http://goo.gl/4cvZtG .T&C* Apply code: PJLTO1\",\n",
       " \"Grand Diwali Sale: 30% OFF* on medicines from Medlife. Install goo.gl/F8y1qO or Call 02260708090. Use DIWI30. Valid on 1st order, till 28 Oct'16. *T&C apply\",\n",
       " \"Papa John's Pizza announces Buy1 & Get1 Free For Next 3 Days on Med/Large pizzas, Order @ 180030107272 or http://goo.gl/4cvZtG Code: PJFRI01 T&C Apply\",\n",
       " \"Papa John's Pizza announces Buy1 & Get1 Free For Next 3 Days on Med/Large pizzas, Order @ 180030107272 or http://goo.gl/4cvZtG Code: PJFRI01 T&C Apply\",\n",
       " \"Papa John's Pizza announces Buy1 & Get1 Free For Next 3 Days on Med/Large pizzas, Order @ 180030107272 or http://goo.gl/4cvZtG Code: PJFRI01 T&C Apply\",\n",
       " \"Double Buy any 2 med pizzas at only Rs. 189* each. Call 180030107272 or visit http://goo.gl/4cvZtG .T&C* Apply code: PJLTO1. Papa John's Pizza.\",\n",
       " \"Papa John's wishes its patrons a Happy Dusshera. Buy any 2 med pizzas at only Rs.189* each. Call 180030107272 or http://goo.gl/4cvZtG .T&C* Apply code: PJLTO1\",\n",
       " \"Papa John's wishes its patrons a Happy Dusshera. Buy any 2 med pizzas at only Rs. 189* each. Call 180030107272 or http://goo.gl/4cvZtG .T&C* Apply code: PJLTO1\",\n",
       " \"Papa John's wishes its patrons a Happy Dusshera. Buy any 2 med pizzas at only Rs. 189* each. Call 180030107272 or http://goo.gl/4cvZtG .T&C* Apply code: PJLTO1\",\n",
       " \"Papa John's Pizza announces Buy1 & Get1 Free For Next 3 Days on Med/Large pizzas, Order @ 180030107272 or http://goo.gl/4cvZtG Code: PJFRI01 T&C Apply\"]"
      ]
     },
     "execution_count": 193,
     "metadata": {},
     "output_type": "execute_result"
    }
   ],
   "source": [
    "getClusters(kmeans.labels_, messageList, 4)"
   ]
  },
  {
   "cell_type": "code",
   "execution_count": null,
   "metadata": {
    "collapsed": false
   },
   "outputs": [],
   "source": []
  },
  {
   "cell_type": "code",
   "execution_count": null,
   "metadata": {
    "collapsed": true
   },
   "outputs": [],
   "source": []
  }
 ],
 "metadata": {
  "kernelspec": {
   "display_name": "Python [Root]",
   "language": "python",
   "name": "Python [Root]"
  },
  "language_info": {
   "codemirror_mode": {
    "name": "ipython",
    "version": 2
   },
   "file_extension": ".py",
   "mimetype": "text/x-python",
   "name": "python",
   "nbconvert_exporter": "python",
   "pygments_lexer": "ipython2",
   "version": "2.7.12"
  }
 },
 "nbformat": 4,
 "nbformat_minor": 0
}
