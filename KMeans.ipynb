{
 "cells": [
  {
   "cell_type": "code",
   "execution_count": 8,
   "metadata": {
    "collapsed": true
   },
   "outputs": [],
   "source": [
    "import csv\n",
    "import string\n",
    "import numpy as np"
   ]
  },
  {
   "cell_type": "code",
   "execution_count": 9,
   "metadata": {
    "collapsed": true
   },
   "outputs": [],
   "source": [
    "words = {}\n",
    "wordIndex = 0\n",
    "punctuations = string.punctuation + '\\n'"
   ]
  },
  {
   "cell_type": "code",
   "execution_count": 28,
   "metadata": {
    "collapsed": true
   },
   "outputs": [],
   "source": [
    "def getProperSentence(sentence):\n",
    "    returnSentence = sentence.lower()\n",
    "    replace_punctuation = string.maketrans(punctuations, ' '*len(punctuations))\n",
    "    returnSentence = returnSentence.translate(replace_punctuation)\n",
    "    return returnSentence"
   ]
  },
  {
   "cell_type": "code",
   "execution_count": 29,
   "metadata": {
    "collapsed": false
   },
   "outputs": [],
   "source": [
    "with open('train.csv','rb') as train:\n",
    "    reader = csv.reader(train)\n",
    "    for row in reader:\n",
    "        message = getProperSentence(row[4])\n",
    "        for word in message.split(' '):\n",
    "            if not word.isdigit():\n",
    "                if word not in words:\n",
    "                    words[word] = wordIndex\n",
    "                    wordIndex = wordIndex + 1"
   ]
  },
  {
   "cell_type": "code",
   "execution_count": 30,
   "metadata": {
    "collapsed": false
   },
   "outputs": [
    {
     "data": {
      "text/plain": [
       "2229"
      ]
     },
     "execution_count": 30,
     "metadata": {},
     "output_type": "execute_result"
    }
   ],
   "source": [
    "wordIndex"
   ]
  },
  {
   "cell_type": "code",
   "execution_count": 65,
   "metadata": {
    "collapsed": false
   },
   "outputs": [],
   "source": [
    "def makeFeatureVector(sentence):\n",
    "    tempSen = getProperSentence(sentence)\n",
    "    retVal = np.zeros(wordIndex)\n",
    "    for word in tempSen.split(' '):\n",
    "        if word.isdigit():\n",
    "            continue\n",
    "        indexOfWord = words[word]\n",
    "        retVal[indexOfWord] = 1\n",
    "    return retVal"
   ]
  },
  {
   "cell_type": "code",
   "execution_count": 128,
   "metadata": {
    "collapsed": false
   },
   "outputs": [],
   "source": [
    "def returnFeatureSet():\n",
    "    index = 0\n",
    "    ret = np.array([])\n",
    "    with open('train.csv','rb') as train:\n",
    "        reader = csv.reader(train)\n",
    "        for row in reader:        \n",
    "            featureVector = makeFeatureVector(row[4])\n",
    "#             print featureVector\n",
    "            if index == 0:\n",
    "                ret = np.hstack((ret,featureVector))\n",
    "                index = index + 1\n",
    "            else:\n",
    "                ret = np.vstack((ret, featureVector))\n",
    "    return ret"
   ]
  },
  {
   "cell_type": "code",
   "execution_count": 130,
   "metadata": {
    "collapsed": false
   },
   "outputs": [],
   "source": [
    "featureVectorSet = returnFeatureSet()"
   ]
  },
  {
   "cell_type": "code",
   "execution_count": 132,
   "metadata": {
    "collapsed": true
   },
   "outputs": [],
   "source": [
    "from sklearn.cluster import KMeans"
   ]
  },
  {
   "cell_type": "code",
   "execution_count": 208,
   "metadata": {
    "collapsed": true
   },
   "outputs": [],
   "source": [
    "kmeans = KMeans(n_clusters=100, random_state=0).fit(featureVectorSet)"
   ]
  },
  {
   "cell_type": "code",
   "execution_count": 209,
   "metadata": {
    "collapsed": false
   },
   "outputs": [
    {
     "data": {
      "text/plain": [
       "array([99,  1,  1,  1,  1,  1, 60,  1,  4, 14,  1,  1, 90, 66, 26, 66, 14,\n",
       "       86, 64, 14, 14,  1, 45, 26, 81, 39,  1,  1, 10, 90,  1, 81, 42, 28,\n",
       "       28,  1,  1, 14,  1,  1, 66,  1, 84,  1, 43,  1,  1, 38, 60, 72, 23,\n",
       "        1,  1,  1, 45, 10,  3,  3, 11, 18,  1, 10,  3, 40, 10,  3, 39,  1,\n",
       "       28,  1,  1, 89,  4,  1, 23, 23, 64, 86, 39, 28, 78, 36, 36,  1, 78,\n",
       "        1, 82,  5,  1, 12,  1, 40, 53, 31, 76,  8, 84,  1, 14, 28, 28, 28,\n",
       "       28, 13,  1, 66,  1, 15, 84, 67,  4, 25, 71, 52, 52, 20,  1, 18, 19,\n",
       "        1, 19,  1,  1,  7, 37,  7,  7, 66, 58,  8,  6,  7,  2, 37,  7, 58,\n",
       "       58,  1,  1,  1,  8, 84, 59,  6,  7,  2, 18,  2,  7, 37,  7,  2, 11,\n",
       "        1, 44, 12, 45, 39, 20,  9, 58,  6,  7,  2, 58,  1, 92,  7, 83,  6,\n",
       "        7,  2,  6,  6,  7,  2,  1, 73,  1,  4,  1,  8,  7,  7,  2, 12, 58,\n",
       "       73, 10, 43,  1,  8,  7,  2, 73, 31,  1, 55,  2,  1,  8,  7,  2,  1,\n",
       "       41, 43, 98, 35, 81,  1, 39,  1, 19, 56, 98, 10, 36, 36, 21, 69,  1,\n",
       "        1, 71, 39, 19,  1, 91, 64, 20, 14, 32, 32, 32, 32, 32, 32, 60, 20,\n",
       "       50, 91, 31,  1,  9, 23, 19, 88,  1, 93, 20, 20,  1, 64,  1, 97,  1,\n",
       "       26,  4,  4,  1, 28,  1, 28, 28, 14, 50, 67, 67,  1, 35, 26,  1, 39,\n",
       "        1,  1, 96, 28, 40, 98,  1,  1, 75, 24, 94,  1,  1, 94, 74, 34, 94,\n",
       "       48,  5, 48,  1, 46, 28, 28, 17, 30, 15,  1,  9, 24,  1, 89,  1,  1,\n",
       "       69,  1, 30, 67, 35, 92,  4, 13,  1, 43, 24,  1, 76, 35, 16,  1,  1,\n",
       "       10,  1, 68,  3,  1, 32, 68, 19, 51, 10,  3, 20,  1, 83, 16, 82, 61,\n",
       "       61, 23, 57,  1, 74, 11, 16, 20, 35,  1,  1, 28,  1, 16,  9, 83, 18,\n",
       "       10, 71,  3,  1,  3,  1, 35, 12, 77, 44, 10,  3,  3,  3, 20, 60, 89,\n",
       "        5,  1,  1,  1,  1,  1, 77, 82,  1,  1,  1,  1,  1, 28,  1, 46,  1,\n",
       "        1, 29, 29, 63, 26, 89, 95, 64, 64, 64, 59, 72, 41,  1,  1,  1,  1,\n",
       "       21, 21, 28, 28, 29, 33, 33, 55,  1, 92,  1, 69, 63, 71, 63,  1, 38,\n",
       "       38, 71, 43,  1,  1, 38,  1, 69, 33,  5,  1,  1,  1, 11, 81, 33, 38,\n",
       "       71,  1, 29, 17, 40, 74, 80, 28, 28, 23,  1, 62, 27, 33, 89, 71, 17,\n",
       "       71, 62, 57, 47, 33,  1, 10,  3, 63, 10,  3, 31, 21, 21, 21, 21,  1,\n",
       "       60, 71, 49, 14,  1, 10,  3,  1, 53, 66,  1, 98,  1,  5, 69,  1, 75,\n",
       "       81, 38,  1, 10,  3, 20, 10, 10, 10, 28, 39, 28,  1, 40, 85, 10, 10,\n",
       "        3, 67,  1, 86, 22, 11, 55, 27, 85, 89, 17, 33, 76, 80, 55, 10,  1,\n",
       "       10, 23,  1, 57, 85, 85, 22,  1, 27, 69, 10,  1,  1,  3,  1,  1,  1,\n",
       "       49,  1,  1, 10, 43, 62,  1,  1,  1, 11,  1, 39,  1, 31, 60, 65,  1,\n",
       "       67,  5,  5, 22, 83, 41, 47,  1, 22,  1, 89, 11, 39, 86,  1,  1, 83,\n",
       "       20, 39,  1,  1, 12, 97, 79, 87, 28, 15, 49,  1, 11,  1, 79,  1,  1,\n",
       "       66, 53,  0, 40, 30, 14,  1, 11, 67,  1, 64,  1,  1,  1, 10, 60,  1,\n",
       "       89,  1, 69, 13, 67,  1, 49, 54, 54, 70, 70, 71, 25,  1, 98,  1,  1,\n",
       "        1], dtype=int32)"
      ]
     },
     "execution_count": 209,
     "metadata": {},
     "output_type": "execute_result"
    }
   ],
   "source": [
    "kmeans.labels_"
   ]
  },
  {
   "cell_type": "code",
   "execution_count": 210,
   "metadata": {
    "collapsed": true
   },
   "outputs": [],
   "source": [
    "messageList = []"
   ]
  },
  {
   "cell_type": "code",
   "execution_count": 211,
   "metadata": {
    "collapsed": false
   },
   "outputs": [],
   "source": [
    "def populateMessageList():\n",
    "    with open('train.csv','rb') as train:\n",
    "        reader = csv.reader(train)\n",
    "        for row in reader:\n",
    "            message =row[4]\n",
    "            messageList.append(message)\n",
    "populateMessageList()"
   ]
  },
  {
   "cell_type": "code",
   "execution_count": 212,
   "metadata": {
    "collapsed": false
   },
   "outputs": [
    {
     "data": {
      "text/plain": [
       "['Buy till Sunday & get EXTRA 300-500 OFF over& above all offers@ www.lenskart.com/cust or Visit Store.1st Time Ever:300 OFF +1st Frame Free; 500 OFF+ 2 for 2500',\n",
       " 'nitish chandra has requested Rs.5000.0 from you. Click on this link to pay: http://m.p-y.tm/stom',\n",
       " 'Faasos App Code : 4893 . For verifying your phone number, not some secret treasure.',\n",
       " 'Faasos App Code : 1752 . For verifying your phone number, not some secret treasure.']"
      ]
     },
     "execution_count": 212,
     "metadata": {},
     "output_type": "execute_result"
    }
   ],
   "source": [
    "messageList[1:5]"
   ]
  },
  {
   "cell_type": "code",
   "execution_count": 184,
   "metadata": {
    "collapsed": false
   },
   "outputs": [],
   "source": [
    "def getClusters(clusterIndices, messageList, requiredIndex):\n",
    "    retVal = []\n",
    "    for i in range(len(clusterIndices)):\n",
    "        if clusterIndices[i] == requiredIndex:\n",
    "            retVal.append(messageList[i])\n",
    "    return retVal"
   ]
  },
  {
   "cell_type": "code",
   "execution_count": 228,
   "metadata": {
    "collapsed": false
   },
   "outputs": [
    {
     "data": {
      "text/plain": [
       "['Your trx is debited to HDFC Bank CREDIT Card for Rs. 199.00 in MUMBAI at HOTSTAR60238 on 2016-11-06:11:24:05.This is not an authenticated trx as per RBI Mandate effective 1 May 12.',\n",
       " 'Ur transaction on HDFC Bank CREDIT Card ending 7109 for Rs. 1504.00  has been credited/reversed by PAYUPAISA47779 on 2016-10-26:15:58:31',\n",
       " 'Ur transaction on HDFC Bank CREDIT Card ending 7109 for Rs. 5.00  has been credited/reversed by HOTSTAR on 2016-10-13:16:01:54']"
      ]
     },
     "execution_count": 228,
     "metadata": {},
     "output_type": "execute_result"
    }
   ],
   "source": [
    "getClusters(kmeans.labels_, messageList, 76)"
   ]
  },
  {
   "cell_type": "code",
   "execution_count": 206,
   "metadata": {
    "collapsed": false
   },
   "outputs": [],
   "source": [
    "def getClusterSize(X):\n",
    "    U,S,V = np.linalg.svd(X)\n",
    "    total = 0.0\n",
    "    for i in range(len(S)):\n",
    "        total += S[i]*S[i];\n",
    "    spectral_sum = 0.0\n",
    "    optimal_cluster_size = len(S)\n",
    "    for i in range(len(S)):\n",
    "        spectral_sum += S[i]*S[i];\n",
    "        if(spectral_sum / total > 0.80):\n",
    "            optimal_cluster_size = i+1\n",
    "            break\n",
    "    return optimal_cluster_size"
   ]
  },
  {
   "cell_type": "code",
   "execution_count": 207,
   "metadata": {
    "collapsed": false
   },
   "outputs": [
    {
     "data": {
      "text/plain": [
       "117"
      ]
     },
     "execution_count": 207,
     "metadata": {},
     "output_type": "execute_result"
    }
   ],
   "source": [
    "getClusterSize(featureVectorSet)"
   ]
  },
  {
   "cell_type": "code",
   "execution_count": 224,
   "metadata": {
    "collapsed": false
   },
   "outputs": [
    {
     "data": {
      "text/plain": [
       "64"
      ]
     },
     "execution_count": 224,
     "metadata": {},
     "output_type": "execute_result"
    }
   ],
   "source": [
    "kmeans.labels_[18]"
   ]
  },
  {
   "cell_type": "code",
   "execution_count": null,
   "metadata": {
    "collapsed": true
   },
   "outputs": [],
   "source": []
  }
 ],
 "metadata": {
  "kernelspec": {
   "display_name": "Python [Root]",
   "language": "python",
   "name": "Python [Root]"
  },
  "language_info": {
   "codemirror_mode": {
    "name": "ipython",
    "version": 2
   },
   "file_extension": ".py",
   "mimetype": "text/x-python",
   "name": "python",
   "nbconvert_exporter": "python",
   "pygments_lexer": "ipython2",
   "version": "2.7.12"
  }
 },
 "nbformat": 4,
 "nbformat_minor": 0
}
